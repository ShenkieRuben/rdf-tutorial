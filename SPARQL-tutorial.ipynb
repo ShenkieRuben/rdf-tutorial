{
 "cells": [
  {
   "cell_type": "markdown",
   "metadata": {},
   "source": [
    "## SPARQL exercises\n",
    "\n",
    "Below two exercises that let you explore querying with SPARQL. \n",
    "\n",
    "In SPARQL, you have four query types: \n",
    "1. SELECT: Return matches as a collection of solution bindings.\n",
    "2. CONSTRUCT: Create RDF triples from matches.\n",
    "3. DESCRIBE: Create RDF triples about a resource.\n",
    "4. ASK: Check if at least one match exists."
   ]
  },
  {
   "cell_type": "markdown",
   "metadata": {},
   "source": [
    "**Exercise 1**\n",
    "\n",
    "1. Load the recipe.rdf and ingredient.rdf into GraphDB and start the SPARQL service (or you will not be able to query it)\n",
    "    - tip: load both in a separate named graph, one named graph for ingredients, and one for recipes.  \n",
    "2. Perform the following queries:\n",
    "    - SELECT all recipes and their descriptions, ordered alphabetically\n",
    "    - SELECT all recipes meant for dinner\n",
    "    - SELECT the recipes that contain the most number of ingredients  \n",
    "    - ASK if there is any recipe that has a glycemic index of exactly 5. \n",
    "    - SELECT recipes that have less than 30 minutes cooking time\n",
    "    \n",
    "**Construct queries:** Since a CONSTRUCT query (example below) constructs a graph, and therefor outputs triples instead of a table, you can use it to generate a modified version of the graph, but also to visualise a subgraph. In GraphDB, after running a CONSTRUCT query in the GraphDB SPARQL service, you can select 'Visual' in the lower right corner. \n",
    "\n",
    "   - try to visualise an interesting part of the graph: for example a single gluten-free recipe and its ingredients \n",
    "In the WHERE part of the query, all subjects ?s and objects ?o will be retrieved that are connected with the property wtm:hasIngredient. The CONSTRUCT part will take ?s and ?o and create a new graph, by again connecting ?s and ?o with wtm:hasIngredient. If you want to create a graph with a _new_ property, you can also do this by replacing the property in the CONSTRUCT part with another one. \n",
    "\n",
    "\n",
    "CONSTRUCT { ?s wtm:hasIngredient ?o } \n",
    "WHERE { ?s wtm:hasIngredient ?o }\n",
    "\n"
   ]
  },
  {
   "cell_type": "markdown",
   "metadata": {},
   "source": [
    "**Exercise 2**\n",
    "1. Explore the [LMDB](https://triplydb.com/Triply/linkedmdb) dataset\n",
    "2. Perform the following queries:\n",
    "    - How many classes are there? \n",
    "    - Which are the distinguishing properties of a <https://triplydb.com/Triply/linkedmdb/vocab/Film> class? \n",
    "    - Can you find the 5 actors that performed in most movies, and the name of these movies ? \n",
    "    - What is the IRI of “Tom Hanks (Actor)” ?\n",
    "    - Can you find the IRI of movies and with their DBpedia correspondent IRI?"
   ]
  }
 ],
 "metadata": {
  "kernelspec": {
   "display_name": "Python 3",
   "language": "python",
   "name": "python3"
  },
  "language_info": {
   "codemirror_mode": {
    "name": "ipython",
    "version": 3
   },
   "file_extension": ".py",
   "mimetype": "text/x-python",
   "name": "python",
   "nbconvert_exporter": "python",
   "pygments_lexer": "ipython3",
   "version": "3.7.6"
  }
 },
 "nbformat": 4,
 "nbformat_minor": 4
}
