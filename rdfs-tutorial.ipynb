{
 "cells": [
  {
   "cell_type": "markdown",
   "metadata": {},
   "source": [
    "# Knowledge Representation on the Web -- RDFS tutorial\n",
    "\n",
    "Here we'll learn the basics of RDFS (RDF Schema) and how to perform basic RDFS reasoning with rdflib (documentation [here](https://rdflib.readthedocs.io/en/stable/)) and owlrl (documentation [here](https://owl-rl.readthedocs.io/en/latest/))."
   ]
  },
  {
   "cell_type": "code",
   "execution_count": null,
   "metadata": {},
   "outputs": [],
   "source": []
  },
  {
   "cell_type": "markdown",
   "metadata": {},
   "source": [
    "## Imports\n",
    "\n",
    "owlrl is a library implementing basic RDFS and OWL reasoning on top of rdflib. We'll install and import its relevant symbols."
   ]
  },
  {
   "cell_type": "code",
   "execution_count": 89,
   "metadata": {},
   "outputs": [
    {
     "name": "stdout",
     "output_type": "stream",
     "text": [
      "fish: Unknown command: truetrue\n",
      "~/.config/fish/config.fish (line 1): \n",
      "truetrue\n",
      "^\n",
      "from sourcing file ~/.config/fish/config.fish\n",
      "\tcalled during startup\n",
      "Requirement already satisfied: rdflib in /home/ruben/.local/lib/python3.8/site-packages (6.1.1)\n",
      "Requirement already satisfied: owlrl in /home/ruben/.local/lib/python3.8/site-packages (6.0.2)\n",
      "Requirement already satisfied: pyparsing in /home/ruben/.local/lib/python3.8/site-packages (from rdflib) (3.0.7)\n",
      "Requirement already satisfied: isodate in /home/ruben/.local/lib/python3.8/site-packages (from rdflib) (0.6.1)\n",
      "Requirement already satisfied: setuptools in /usr/lib/python3/dist-packages (from rdflib) (45.2.0)\n",
      "Requirement already satisfied: six in /usr/lib/python3/dist-packages (from isodate->rdflib) (1.14.0)\n"
     ]
    }
   ],
   "source": [
    "import sys\n",
    "!{sys.executable} -m pip install rdflib owlrl\n",
    "\n",
    "from rdflib import Graph, RDFS, RDF, URIRef, Literal, Namespace\n",
    "from owlrl import DeductiveClosure, RDFS_Semantics"
   ]
  },
  {
   "cell_type": "markdown",
   "metadata": {},
   "source": [
    "## Loading RDFS graphs\n",
    "\n",
    "Your file `yourRDF.ttl` already contains a basic Knowledge Graph in RDF with some RDFS semantics\n",
    "\n",
    "First, we are going to add some RDFS semantics, and inspect the graph as-is; this is also called the \"asserted graph\"\n",
    "\n",
    "**Exercise 1** \n",
    "1. add additional triples using the RDFS semantics: have a look [here](https://www.w3.org/TR/rdf-schema/), and use domain and range, subPropertyOf, and Class, to say more about the instances in your graph\n",
    "2. load yourRDF graph\n",
    "3. print the classes in your graph\n",
    "4. print the properties of a specific class in yourRDF graph\n",
    "5. print all instances in yourRDF graph (all objects that have a type) \n",
    "6. explain what constitutes a vocabulary in RDF"
   ]
  },
  {
   "cell_type": "code",
   "execution_count": 90,
   "metadata": {},
   "outputs": [
    {
     "name": "stdout",
     "output_type": "stream",
     "text": [
      "30\n"
     ]
    }
   ],
   "source": [
    "AnimalSpace = Namespace(\"http://animal.com/\")\n",
    "animalGraph = Graph()\n",
    "animalGraph.parse(\"./data/animalGraph.ttl\")\n",
    "\n",
    "animal = AnimalSpace.Animal\n",
    "\n",
    "person = AnimalSpace.Person\n",
    "farmer = AnimalSpace.Farmer\n",
    "daphne = AnimalSpace.Daphne\n",
    "feeds = AnimalSpace.feeds\n",
    "feedsGrass = AnimalSpace.feedsGrass\n",
    "feedsFish = AnimalSpace.feedsFish\n",
    "cattle = AnimalSpace.Cattle\n",
    "noCattle = AnimalSpace.Cattle\n",
    "\n",
    "zebra = AnimalSpace.Zebra\n",
    "penguin = AnimalSpace.Penguin\n",
    "pig = AnimalSpace.Pig\n",
    "chicken = AnimalSpace.Chicken\n",
    "dog = AnimalSpace.Dog\n",
    "\n",
    "\n",
    "animalGraph.add((cattle, RDFS.subClassOf, animal))\n",
    "animalGraph.add((noCattle, RDFS.subClassOf, animal))\n",
    "\n",
    "animalGraph.add((feeds, RDF.type, RDF.Property))\n",
    "animalGraph.add((feedsGrass, RDFS.subPropertyOf, feeds))\n",
    "animalGraph.add((feedsFish, RDFS.subPropertyOf, feeds))\n",
    "animalGraph.add((person, RDF.type, RDFS.Class))\n",
    "animalGraph.add((farmer, RDFS.subClassOf, person))\n",
    "animalGraph.add((daphne, RDF.type, farmer))\n",
    "\n",
    "animalGraph.add((pig, RDF.type, cattle))\n",
    "animalGraph.add((penguin, RDF.type, noCattle))\n",
    "animalGraph.add((chicken, RDF.type, cattle))\n",
    "animalGraph.add((zebra, RDF.type, noCattle))\n",
    "animalGraph.add((dog, RDF.type, noCattle))\n",
    "\n",
    "animalGraph.add((daphne, RDFS.label, Literal(\"Daphne the farmer\")))\n",
    "animalGraph.add((farmer, feeds, cattle))\n",
    "animalGraph.add((feeds, RDFS.domain, farmer))\n",
    "animalGraph.add((feeds, RDFS.range, cattle))\n",
    "\n",
    "animalGraph.add((daphne, feedsGrass, AnimalSpace.Chicken))\n",
    "animalGraph.add((daphne, feedsGrass, AnimalSpace.Pig))\n",
    "animalGraph.add((daphne, feedsFish, AnimalSpace.Penguin))\n",
    "\n",
    "\n",
    "\n",
    "animalGraph.serialize(\"./data/newAnimalGraph.ttl\")\n",
    "\n",
    "print(len(animalGraph))"
   ]
  },
  {
   "cell_type": "markdown",
   "metadata": {},
   "source": [
    "## RDFS inferencing\n",
    "\n",
    "The inference engine in owlrl is triggered by `DeductiveClosure`, which computes the closure of the graph. This requires us to specify under which semantic regime we want to perform the inference (e.g. what kind of rules under the RDFS, OWL, etc. semantics we want the reasoner to produce derivations on). For RDFS semantics we use `RDFS_Semantics` as parameter. See extra options [here](https://owl-rl.readthedocs.io/en/latest/stubs/owlrl.html#module-owlrl)\n",
    "\n",
    "\n",
    "**Exercise 2**\n",
    "1. expand the graph through RDFS semantics inference\n",
    "2. print how many triples the new graph has\n",
    "3. print out the triples in your new graph and inspect them. "
   ]
  },
  {
   "cell_type": "code",
   "execution_count": 91,
   "metadata": {},
   "outputs": [
    {
     "name": "stdout",
     "output_type": "stream",
     "text": [
      "Number of triples 93\n"
     ]
    },
    {
     "data": {
      "text/plain": [
       "<Graph identifier=N942e628ebece408aadef1993437b1871 (<class 'rdflib.graph.Graph'>)>"
      ]
     },
     "execution_count": 91,
     "metadata": {},
     "output_type": "execute_result"
    }
   ],
   "source": [
    "DeductiveClosure(RDFS_Semantics).expand(animalGraph)\n",
    "\n",
    "print(\"Number of triples\", len(animalGraph))\n",
    "\n",
    "animalGraph.serialize(\"./data/expandedAnimalGraph.ttl\")"
   ]
  },
  {
   "cell_type": "markdown",
   "metadata": {},
   "source": [
    "## The explicit (asserted) graph vs the implicit (derived) graph, and RDF entailment\n",
    "\n",
    "Asserted triples are those that are explicitly stated, while derived or inferred triples are those that are implicitly stated through the semantics of RDFS. \n",
    "\n",
    "**Exercise 3**\n",
    "\n",
    "1. Write here code to generate a graph that contains **RDFS derived triples only** from yourRDF Knowledge Graph, not the asserted ones. See a clue on rdflib graph algebra [here](https://rdflib.readthedocs.io/en/stable/merging.html)\n",
    "2. have a look at the inferred graph. Based on the RDFS semantics, explain for each triple the rule that was used to generate it.\n",
    "3. Explain the concept RDF entailment, and the types of entailment RDFS can produce\n"
   ]
  },
  {
   "cell_type": "code",
   "execution_count": 92,
   "metadata": {},
   "outputs": [],
   "source": [
    "assertedGraph = Graph().parse(\"./data/animalGraph.ttl\")\n",
    "expandedGraph = Graph().parse(\"./data/expandedAnimalGraph.ttl\")\n",
    "\n",
    "derivedGraph = expandedGraph - assertedGraph\n",
    "\n",
    "\n",
    "\n",
    "\n",
    "\n",
    "\n"
   ]
  },
  {
   "cell_type": "markdown",
   "metadata": {},
   "source": [
    "## Assignment part 2: your own webapplication. \n"
   ]
  },
  {
   "cell_type": "markdown",
   "metadata": {},
   "source": [
    "**Exercise 4**\n",
    "1. load ingredients.rdf and recipes.rdf in one graph. The graph contains types of individuals and types of relationships between them. Print all the classes and properties in the combined graph with the namespace `ind` and the `wtm` namespace/vocabulary (`http://purl.org/heals/food/`). \n",
    "\n",
    "2. extend the `ind` vocabulary (`http://purl.org/heals/ingredient/`) by creating a hierarchy of ingredients (**hint: http://purl.org/heals/ingredient/CoconutMilk rdf:subClassOf http://purl.org/heals/ingredient/PlantMilk), and make these superclasses human readable by giving them labels**) \n",
    "3. do the same for the `wtm` vocabulary: add a hierarchy of recipes as well as a hierarchy of properties (**hint: http://purl.org/heals/food/hasCookingTemperature rdf:subPropertyOf ...) \n",
    "4. print the entailed triples as we did in the previous exercise\n",
    "5. give three examples of how RDF semantics could aid the chefs in your restaurant \n",
    "    \n",
    "6. which properties and classes could you add to the `wtm` and `ind` vocabularies to further describe your recipe and ingredient knowledge graph, aiding the chefs in your restaurant?  \n"
   ]
  },
  {
   "cell_type": "code",
   "execution_count": 95,
   "metadata": {},
   "outputs": [
    {
     "data": {
      "text/plain": [
       "<Graph identifier=N9787a203c1234442806856bd22a09740 (<class 'rdflib.graph.Graph'>)>"
      ]
     },
     "execution_count": 95,
     "metadata": {},
     "output_type": "execute_result"
    }
   ],
   "source": [
    "ingredientsrecipes = Graph()\n",
    "\n",
    "ingredientsrecipes.parse(\"./data/ingredients.rdf\")\n",
    "ingredientsrecipes.parse(\"./data/recipes.rdf\")\n",
    "\n",
    "# 1. \n",
    "ind = Namespace(\"http://purl.org/heals/ingredient/\")\n",
    "wtm = Namespace(\"http://purl.org/heals/food/\")\n",
    "# for s, p, o, in ingredientsrecipes.triples((None, None, None)):\n",
    "#     if wtm in s or ind in s:\n",
    "#         print(s)\n",
    "    \n",
    "#     if wtm in p or ind in p:\n",
    "#         print(p)\n",
    "    \n",
    "#     if wtm in o or ind in o:\n",
    "#         print(o)\n",
    "\n",
    "# 2. Creating hierarchy of spices and herbs (which are subclases of seasonings)\n",
    "spices = ind.Spices\n",
    "herbs = ind.Herbs\n",
    "seasoning = ind.Seasoning\n",
    "\n",
    "herbs_list = [\"Tarragon\", \"Parsley\", \"Rosemary\", \"Basil\", \"Oregano\", \"Thyme\", \"Cilantro\", ]\n",
    "spices_list = [\"BlackPepper\", \"Salt\"]\n",
    "\n",
    "for herb in herbs_list:\n",
    "    ingredientsrecipes.add((URIRef(f\"http://purl.org/heals/ingredients/{herb}\"), RDFS.subClassOf, herbs))\n",
    "\n",
    "for spice in spices_list:\n",
    "    ingredientsrecipes.add((URIRef(f\"http://purl.org/heals/ingredients/{spice}\"), RDFS.subClassOf, spices))\n",
    "\n",
    "\n",
    "ingredientsrecipes.add((herbs, RDFS.label, Literal(\"All types of herbs\")))\n",
    "ingredientsrecipes.add((spices, RDFS.label, Literal(\"All types of spices\")))\n",
    "ingredientsrecipes.add((seasoning, RDFS.subClassOf, wtm.Ingredient))\n",
    "ingredientsrecipes.add((spices, RDFS.subClassOf, seasoning))\n",
    "ingredientsrecipes.add((herbs, RDFS.subClassOf, seasoning))\n",
    "ingredientsrecipes.add((spices, RDFS.label, Literal(\"All types of seasonings\")))"
   ]
  },
  {
   "cell_type": "code",
   "execution_count": null,
   "metadata": {},
   "outputs": [],
   "source": []
  }
 ],
 "metadata": {
  "kernelspec": {
   "display_name": "Python 3",
   "language": "python",
   "name": "python3"
  },
  "language_info": {
   "codemirror_mode": {
    "name": "ipython",
    "version": 3
   },
   "file_extension": ".py",
   "mimetype": "text/x-python",
   "name": "python",
   "nbconvert_exporter": "python",
   "pygments_lexer": "ipython3",
   "version": "3.8.10"
  }
 },
 "nbformat": 4,
 "nbformat_minor": 2
}
