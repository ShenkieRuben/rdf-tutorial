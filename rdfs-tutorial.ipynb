{
 "cells": [
  {
   "cell_type": "markdown",
   "metadata": {},
   "source": [
    "# Knowledge Representation on the Web -- RDFS tutorial\n",
    "\n",
    "Here we'll learn the basics of RDFS (RDF Schema) and how to perform basic RDFS reasoning with rdflib (documentation [here](https://rdflib.readthedocs.io/en/stable/)) and owlrl (documentation [here](https://owl-rl.readthedocs.io/en/latest/))."
   ]
  },
  {
   "cell_type": "markdown",
   "metadata": {},
   "source": [
    "## Imports\n",
    "\n",
    "owlrl is a library implementing basic RDFS and OWL reasoning on top of rdflib. We'll install and import its relevant symbols."
   ]
  },
  {
   "cell_type": "code",
   "execution_count": 36,
   "metadata": {},
   "outputs": [
    {
     "name": "stdout",
     "output_type": "stream",
     "text": [
      "fish: Unknown command: truetrue\n",
      "~/.config/fish/config.fish (line 1): \n",
      "truetrue\n",
      "^\n",
      "from sourcing file ~/.config/fish/config.fish\n",
      "\tcalled during startup\n",
      "Requirement already satisfied: rdflib in /home/ruben/.local/lib/python3.8/site-packages (6.1.1)\n",
      "Requirement already satisfied: owlrl in /home/ruben/.local/lib/python3.8/site-packages (6.0.2)\n",
      "Requirement already satisfied: setuptools in /usr/lib/python3/dist-packages (from rdflib) (45.2.0)\n",
      "Requirement already satisfied: pyparsing in /home/ruben/.local/lib/python3.8/site-packages (from rdflib) (3.0.7)\n",
      "Requirement already satisfied: isodate in /home/ruben/.local/lib/python3.8/site-packages (from rdflib) (0.6.1)\n",
      "Requirement already satisfied: six in /usr/lib/python3/dist-packages (from isodate->rdflib) (1.14.0)\n"
     ]
    }
   ],
   "source": [
    "import sys\n",
    "!{sys.executable} -m pip install rdflib owlrl\n",
    "\n",
    "from rdflib import Graph, RDFS, RDF, URIRef, Literal, Namespace\n",
    "from owlrl import DeductiveClosure, RDFS_Semantics"
   ]
  },
  {
   "cell_type": "markdown",
   "metadata": {},
   "source": [
    "## Loading RDFS graphs\n",
    "\n",
    "Your file `yourRDF.ttl` already contains a basic Knowledge Graph in RDF with some RDFS semantics\n",
    "\n",
    "First, we are going to add some RDFS semantics, and inspect the graph as-is; this is also called the \"asserted graph\"\n",
    "\n",
    "**Exercise 1** \n",
    "1. add additional triples using the RDFS semantics: have a look [here](https://www.w3.org/TR/rdf-schema/), and use domain and range, subPropertyOf, propertyOf, and Class, to say more about the instances in your graph\n",
    "2. load yourRDF graph\n",
    "3. print the classes in your graph\n",
    "4. print the properties of a specific class in yourRDF graph\n",
    "5. print all instances in yourRDF graph (all objects that have a type) \n",
    "6. explain what constitutes a vocabulary in RDF"
   ]
  },
  {
   "cell_type": "code",
   "execution_count": 37,
   "metadata": {},
   "outputs": [
    {
     "data": {
      "text/plain": [
       "<Graph identifier=Na324ed0a551a4e3ab8514b16eb011511 (<class 'rdflib.graph.Graph'>)>"
      ]
     },
     "execution_count": 37,
     "metadata": {},
     "output_type": "execute_result"
    }
   ],
   "source": [
    "AnimalSpace = Namespace(\"http://animal.com/\")\n",
    "animalGraph = Graph()\n",
    "animalGraph.parse(\"./data/animalRDF.ttl\")\n",
    "\n",
    "person = AnimalSpace.Person\n",
    "farmer = AnimalSpace.Farmer\n",
    "daphne = AnimalSpace.Daphne\n",
    "feeds = AnimalSpace.feeds\n",
    "cattle = AnimalSpace.Cattle\n",
    "\n",
    "\n",
    "animalGraph.add((cattle, RDFS.subClassOf, AnimalSpace.Animal))\n",
    "\n",
    "animalGraph.add((feeds, RDF.type, RDF.Property))\n",
    "animalGraph.add((AnimalSpace.feedsMeat, RDFS.subPropertyOf, feeds))\n",
    "animalGraph.add((AnimalSpace.feedsFish, RDFS.subPropertyOf, feeds))\n",
    "animalGraph.add((person, RDF.type, RDFS.Class))\n",
    "animalGraph.add((farmer, RDFS.subClassOf, person))\n",
    "animalGraph.add((daphne, RDF.type, farmer))\n",
    "\n",
    "animalGraph.add((daphne, RDFS.label, Literal(\"Daphne the farmer\")))\n",
    "animalGraph.add((farmer, feeds, cattle))\n",
    "animalGraph.add((feeds, RDFS.domain, farmer))\n",
    "\n",
    "\n",
    "# animalGraph.add((URIRef(\"Hunts\"), RDF.type, RDF.Property))\n",
    "# animalGraph.add((URIRef(\"HuntsForProfit\"), RDFS.subPropertyOf, URIRef(\"Hunts\")))\n",
    "# animalGraph.add((URIRef(\"HuntsForSurvival\"), RDF.type, URIRef(\"Hunts\")))\n",
    "\n",
    "animalGraph.serialize(\"./data/new_animalRDF.ttl\")\n"
   ]
  },
  {
   "cell_type": "markdown",
   "metadata": {},
   "source": [
    "## RDFS inferencing\n",
    "\n",
    "The inference engine in owlrl is triggered by `DeductiveClosure`, which computes the closure of the graph. This requires us to specify under which semantic regime we want to perform the inference (e.g. what kind of rules under the RDFS, OWL, etc. semantics we want the reasoner to produce derivations on). For RDFS semantics we use `RDFS_Semantics` as parameter. See extra options [here](https://owl-rl.readthedocs.io/en/latest/stubs/owlrl.html#module-owlrl)\n",
    "\n",
    "\n",
    "**Exercise 2**\n",
    "1. expand the graph through RDFS semantics inference\n",
    "2. print how many triples the new graph has\n",
    "3. print out the triples in your new graph and inspect them. "
   ]
  },
  {
   "cell_type": "markdown",
   "metadata": {},
   "source": [
    "## The explicit (asserted) graph vs the implicit (derived) graph, and RDF entailment\n",
    "\n",
    "Asserted triples are those that are explicitly stated, while derived or inferred triples are those that are implicitly stated through the semantics of RDFS. \n",
    "\n",
    "**Exercise 3**\n",
    "\n",
    "1. Write here code to generate a graph that contains **RDFS derived triples only** from yourRDF Knowledge Graph, not the asserted ones. See a clue on rdflib graph algebra [here](https://rdflib.readthedocs.io/en/stable/merging.html)\n",
    "2. have a look at the inferred graph. Based on the RDFS semantics, explain for each triple the rule that was used to generate it.\n",
    "3. Explain the concept RDF entailment, and the types of entailment RDFS can produce\n"
   ]
  },
  {
   "cell_type": "markdown",
   "metadata": {},
   "source": [
    "## Assignment part 2: your own webapplication. \n"
   ]
  },
  {
   "cell_type": "markdown",
   "metadata": {},
   "source": [
    "**Exercise 4**\n",
    "1. load ingredients.rdf and recipes.rdf in one graph. The graph contains types of individuals and types of relationships between them. Print all the classes and properties in the combined graph with the namespace `ind` and the `wtm` namespace/vocabulary (`http://purl.org/heals/food/`). \n",
    "\n",
    "2. extend the `ind` vocabulary (`http://purl.org/heals/ingredient/`) by creating a hierarchy of ingredients (**hint: http://purl.org/heals/ingredient/CoconutMilk rdf:subClassOf http://purl.org/heals/ingredient/PlantMilk), and make these superclasses human readable by giving them labels**) \n",
    "3. do the same for the `wtm` vocabulary: add a hierarchy of recipes as well as a hierarchy of properties (**hint: http://purl.org/heals/food/hasCookingTemperature rdf:subPropertyOf ...) \n",
    "4. print the entailed triples as we did in the previous exercise\n",
    "5. give three examples of how RDF semantics could aid the chefs in your restaurant \n",
    "    \n",
    "6. which properties and classes could you add to the `wtm` and `ind` vocabularies to further describe your recipe and ingredient knowledge graph, aiding the chefs in your restaurant?  \n"
   ]
  }
 ],
 "metadata": {
  "kernelspec": {
   "display_name": "Python 3",
   "language": "python",
   "name": "python3"
  },
  "language_info": {
   "codemirror_mode": {
    "name": "ipython",
    "version": 3
   },
   "file_extension": ".py",
   "mimetype": "text/x-python",
   "name": "python",
   "nbconvert_exporter": "python",
   "pygments_lexer": "ipython3",
   "version": "3.8.10"
  }
 },
 "nbformat": 4,
 "nbformat_minor": 2
}
