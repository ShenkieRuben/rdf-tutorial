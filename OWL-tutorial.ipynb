{
 "cells": [
  {
   "cell_type": "markdown",
   "metadata": {},
   "source": [
    "# OWL tutorial"
   ]
  },
  {
   "cell_type": "markdown",
   "metadata": {},
   "source": [
    "First install owlready2 if you don't already have it, and have a quick look at the [documentation](https://owlready2.readthedocs.io/en/v0.36/onto.html#)."
   ]
  },
  {
   "cell_type": "code",
   "execution_count": 1,
   "metadata": {},
   "outputs": [
    {
     "name": "stderr",
     "output_type": "stream",
     "text": [
      "* Owlready2 * Warning: optimized Cython parser module 'owlready2_optimized' is not available, defaulting to slower Python implementation\n"
     ]
    }
   ],
   "source": [
    "## Uncomment if you do not have owlrl installed (you should have it installed from the RDFS tutorial)\n",
    "#import sys\n",
    "#!{sys.executable} -m pip install rdflib  owlready2 pandas\n",
    "\n",
    "import pandas as pd\n",
    "from rdflib import Graph, Literal, Namespace, RDF, URIRef, OWL\n",
    "from rdflib.namespace import DC, FOAF\n",
    "\n",
    "from owlready2 import *"
   ]
  },
  {
   "cell_type": "markdown",
   "metadata": {},
   "source": [
    "Let's start loading some data from a .CSV file. We are going to create an ontology that describes the data inside.\n",
    "We already did part of this using the semantics of RDF(S), now we'll use the semantics of [OWL](https://www.w3.org/TR/2012/REC-owl2-primer-20121211/) through owlready2. \n",
    "\n",
    "Remember that an ontology is often an application ontology, meaning that it is built with a specific task in mind. \n",
    "We could model _everything_ within a certain domain in the most ontologically correct way possible, _or_ **we could model the domain in accordance with the application's task.** \n",
    "\n",
    "\n",
    "**Your task and domain:** You are a broadcaster that has just digitised its radio archives into a digital music archive (DMA), and aims to play more interesting tracks by discovering their 'hidden treasures', by making unexpected and potentially interesting relations between tracks visible to the users (which are journalists and program makers).\n",
    "\n",
    "\n",
    "**Exercise 1** \n",
    "\n",
    "1. look at the .csv files in the folder /data/musicoset_metadata/ and load them into pandas dataframes (use display.max_columns to show all columns). \n",
    "2. initialise an empty ontology using owlready2\n",
    "3. using owlready2, create a hierarchy of classes and subclasses that describe the entities in your dataframes\n",
    "4. using owrleady2, create properties and subproperties their properties, and how the classes relate to one another (using domain and range). If it helps: draw out your ontology in https://app.diagrams.net/\n",
    "    - create: object properties, data properties, functional properties\n",
    "5. using owlready2, add class restrictions\n",
    "6. create invididuals of your classes, and provide them with attributes using your properties! \n",
    "7. write simple queries to retrieve your individuals following: https://owlready2.readthedocs.io/en/v0.36/onto.html#simple-queries. What kind of things would journalists and program makers like to retrieve? \n",
    "6. save your asserted owl file"
   ]
  },
  {
   "cell_type": "code",
   "execution_count": 9,
   "metadata": {},
   "outputs": [
    {
     "name": "stdout",
     "output_type": "stream",
     "text": [
      "Albums\n",
      "                       album_id                                               name                                       billboard                                            artists  popularity  total_tracks   album_type                                          image_url\n",
      "0      \\n5n1GSzC1Reao29ScnpLYqp                                      Dying To Live                                   Dying To Live          {'46SHBwWsqBkxI7EeeBEQG7': 'Kodak Black'}        83.0          16.0        album  https://i.scdn.co/image/db2133234d458f432ca207...\n",
      "1      \\n6UYZEYjpN1DYRW0kqFy9ZE                                      Championships                                   Championships            {'20sxb77xiYeusSH8cVdatc': 'Meek Mill'}        85.0          19.0        album  https://i.scdn.co/image/77eb7c17cafe5503c58661...\n",
      "2      \\n7uVimUILdzSZG4KKKWToq0                 Christmas (Deluxe Special Edition)                                       Christmas        {'1GxkXlMwML1oSg5eLPiAz3': 'Michael Bublé'}        60.0          20.0        album  https://i.scdn.co/image/2d6ee8d4fb5a45abf35cd3...\n",
      "3      \\n35s58BRTGAEWztPo9WqCIs  Spider-Man: Into the Spider-Verse (Soundtrack ...               Spider-Man: Into The Spider-Verse      {'0LyfQWJT6nXafLPZqxe9Of': 'Various Artists'}        92.0          13.0  compilation  https://i.scdn.co/image/3aa37254a41cf96e815725...\n",
      "4      \\n41GuZcammIkupMPKH2OJ6I                                         ASTROWORLD                                      ASTROWORLD         {'0Y5tJX1MQlPlqiwlOH1tJY': 'Travis Scott'}        91.0          17.0        album  https://i.scdn.co/image/cdca7dc20c778ada42fb18...\n",
      "...                         ...                                                ...                                             ...                                                ...         ...           ...          ...                                                ...\n",
      "26515  \\n0Gt9RgFYh2jMvv5ix5lCA1                             Um, Um, Um, Um, Um, Um  Um, Um, Um, Um, Um, Um/The Best Of Major Lance          {'7onp6ew3LGoQImTt1I78gt': 'Major Lance'}         0.0           1.0       single  https://i.scdn.co/image/caab7f5876f71fdc54b52f...\n",
      "26516  \\n5Cw32z9ICOrrbS8Q5JcpDv                                           Portrait                              Woody Herman: 1964         {'2KSxJY1WxGGVYSmoM0N54P': 'Woody Herman'}        37.0          15.0        album  https://i.scdn.co/image/ab3877b713884d2369aa18...\n",
      "26517  \\n0B9f1PqUNLUEkNHxJPrtbR                      There's A Meetin' Here Tonite                   There's A Meetin' Here Tonite  {'4loTsy7881oe7pr52sewdg': 'Eddie Brown', '2H2...         7.0          12.0        album  https://i.scdn.co/image/0bb2d05acecd9ac163de0e...\n",
      "26518  \\n6wf7Rh10EoTaqZMdN2xRlI                                               More                                         More!!!          {'1kYYk4lJ7ZWbyy3zDYOl6h': 'Kai Winding'}         0.0           1.0       single  https://i.scdn.co/image/2e23c6aaa5599ad6e589d1...\n",
      "26519                        \\n                                                NaN                                             NaN                                                NaN         NaN           NaN          NaN                                                NaN\n",
      "\n",
      "[26520 rows x 8 columns]\n"
     ]
    }
   ],
   "source": [
    "pd.set_option('display.max_columns', None)\n",
    "pd.set_option('display.width', 500)\n",
    "\n",
    "\n",
    "album_df = pd.read_csv(\"./data/musicoset_metadata/albums.csv\", \"\\t\", lineterminator=\"\\r\")\n",
    "\n",
    "artist_df = pd.read_csv(\"./data/musicoset_metadata/artists.csv\", \"\\t\")\n",
    "releases_df = pd.read_csv(\"./data/musicoset_metadata/releases.csv\", \"\\t\")\n",
    "songs_df = pd.read_csv(\"./data/musicoset_metadata/songs.csv\", \"\\t\")\n",
    "tracks_df = pd.read_csv(\"./data/musicoset_metadata/tracks.csv\", \"\\t\")\n",
    "\n",
    "\n",
    "print(\"Albums\")\n",
    "print(album_df)\n",
    "\n",
    "# print(\"Artists\")\n",
    "# print(artist_df) \n",
    "\n",
    "# print(\"Releases\")\n",
    "# print(releases_df)\n",
    "\n",
    "# print(\"Songs\")\n",
    "# print(songs_df)\n",
    "\n",
    "\n",
    "# print(\"Tracks\")\n",
    "# print(tracks_df)\n"
   ]
  },
  {
   "cell_type": "code",
   "execution_count": 3,
   "metadata": {},
   "outputs": [],
   "source": [
    "onto = get_ontology(\"http://www.music.org/onto/\")\n",
    "\n",
    "with onto:\n",
    "\n",
    "    # Class definitions\n",
    "    class Album(Thing):\n",
    "        pass\n",
    "\n",
    "    class Song(Thing):\n",
    "        pass\n",
    "\n",
    "    class Artist(Thing):\n",
    "        pass\n",
    " \n",
    "    # Subclass definitions\n",
    "    class Solo(Song):\n",
    "        pass\n",
    "\n",
    "    class Collab(Song):\n",
    "        pass\n",
    "\n"
   ]
  },
  {
   "cell_type": "code",
   "execution_count": 4,
   "metadata": {},
   "outputs": [],
   "source": [
    "\n",
    "    # Album props\n",
    "    class numberTracks(Album >> int):\n",
    "        pass\n",
    "\n",
    "    class releasedAlbum(Album >> str):\n",
    "        pass\n",
    "\n",
    "    class albumImage(Album >> str):\n",
    "        pass\n",
    "\n",
    "    class contains(Album >> Song):\n",
    "        pass\n",
    "\n",
    "    class albumName(DataProperty):\n",
    "        domain = [Album]\n",
    "        range = [str]\n",
    "\n",
    "    class releasedDay(releasedAlbum):\n",
    "        domain = [Album]\n",
    "        range = [str]\n",
    "\n",
    "    class releasedMonth(releasedAlbum):\n",
    "        domain = [Album]\n",
    "        range = [str]\n",
    "\n",
    "    class releasedYear(releasedAlbum):\n",
    "        domain = [Album]\n",
    "        range = [str]\n",
    "        \n",
    "\n",
    "\n",
    "    # Artist props\n",
    "    class createsSong(Artist >> Song):\n",
    "        pass \n",
    "    \n",
    "    class artistPopularity(Artist >> int):\n",
    "        pass\n",
    "\n",
    "    class playsGenre(Artist >> str):\n",
    "        pass\n",
    "\n",
    "    class artistName(Artist >> str):\n",
    "        pass\n",
    "\n",
    "\n",
    "    # Song props \n",
    "    class trackNumber(Song >> int):\n",
    "        pass\n",
    "\n",
    "    class songName(DataProperty, FunctionalProperty):\n",
    "        domain = [Song]\n",
    "        range = [str]\n",
    "\n",
    "    class songPopularity(DataProperty, FunctionalProperty):\n",
    "        domain = [Song]\n",
    "        range = [int]\n",
    "\n",
    "    class isExplicit(DataProperty, FunctionalProperty):\n",
    "        pass \n",
    "\n",
    "    class collabsWith(ObjectProperty, SymmetricProperty):\n",
    "        domain = [Collab]\n",
    "        range = [Artist]\n",
    "        pass\n",
    "    \n",
    "    class containedInAlbum(Song >> Album):\n",
    "        inverse_property = contains\n",
    "\n",
    "\n"
   ]
  },
  {
   "cell_type": "code",
   "execution_count": 5,
   "metadata": {},
   "outputs": [],
   "source": [
    "# Class restrictions\n",
    "# Artist.is_a.append(artistName.max(1))\n",
    "# Artist.is_a.append(createsSong.min(1, Song))\n",
    "# Artist.is_a.append(playsGenre.min(1))\n",
    "\n",
    "# Collab.is_a.append(collabsWith.min(1, Artist))\n",
    "\n",
    "# Song.is_a.append(albumName.max(1, int))\n",
    "# Song.is_a.append(trackNumber.exactly(1, int))\n",
    "\n",
    "# Album.is_a.append(contains.min(1, Song))\n",
    "\n",
    "\n",
    "# AllDisjoint([Solo, Collab], onto)"
   ]
  },
  {
   "cell_type": "code",
   "execution_count": 6,
   "metadata": {},
   "outputs": [],
   "source": [
    "# # Creating instances\n",
    "\n",
    "# stronger = Song(\"Stronger\", trackNumber=[2], songPopularity=[11], isExplicit=[False])\n",
    "# in_the_middle = Collab(\"She's_Like_A_Star\", trackNumber=[15], songPopularity=[54], isExplicit=[False], collabsWith=Artist(\"Taio_Cruz\"))\n",
    "\n",
    "# sugababes = Artist(\"Sugababes\", artistPopularity=[75], playsGenre=['pop', 'r&b'], createsSong = [stronger, in_the_middle], artistName=[\"Sugababes\"])\n",
    "\n",
    "# sugababes_album = Album(\"Angels_With_Dirty_Faces\", contains=[Song('Stronger')])\n",
    "\n",
    "\n",
    "# jon_hopkins = Artist(\"Jon_Hopkins\", artistPopularity=[95], playsGenre=['dance', 'electro', 'heavy metal'], createsSong = [Song('Small_Memory')], artistName=[\"Jon_Hopkins\"])\n",
    "\n",
    "\n",
    "# welcome = Song(\"Welcome\", trackNumber=[1], songPopularity=[62], isExplicit=[False])\n",
    "# arriving = Collab(\"Arriving\", trackNumber=[8], songPopularity=[87], isExplicit=[False], collabsWith=Artist(\"7RAYS\", onto))\n",
    "\n",
    "# mfpt_album = Album(\"Music_For_Psychedelic_Therapy\", contains=[Song(\"Welcome\"), Song(\"Arriving\")], releasedMonth=[\"jan/21\"], albumImage=\"https://media.pitchfork.com/photos/612ffc02f64ed03c58cd3c34/1:1/w_320,c_limit/jonhopkins_musicforpsychedelic_3000.jpeg\", numberTracks=[9])\n",
    "\n",
    "\n",
    "\n"
   ]
  },
  {
   "cell_type": "code",
   "execution_count": 7,
   "metadata": {},
   "outputs": [
    {
     "name": "stdout",
     "output_type": "stream",
     "text": [
      "[]\n",
      "[]\n",
      "[onto.Solo, onto.Collab]\n",
      "[]\n"
     ]
    }
   ],
   "source": [
    "# Some simple queries:\n",
    "print(Artist.instances())\n",
    "print(Song.instances())\n",
    "print(list(Song.subclasses()))\n",
    "# print(sugababes.playsGenre)\n",
    "print(onto.search(collabsWith = \"*\"))\n",
    "\n",
    "\n",
    "onto.save(\"./data/firstOwlOnto.owl\", format=\"rdfxml\")\n"
   ]
  },
  {
   "cell_type": "markdown",
   "metadata": {},
   "source": [
    "## OWL reasoning \n",
    "\n",
    "Let's look at how reasoning works.\n",
    "\n",
    "Owlready automatically gets the results of the reasoning from HermiT (a type of reasoner) and reclassifies Individuals and Classes. \n",
    "\n",
    "**Exercise 2**\n",
    "1. think about which things are inferred from your OWL semantics. Query/look at your graph: do you see what you expected?\n",
    "2. looking at the following tutorial [owlready2-reasoning](https://owlready2.readthedocs.io/en/latest/reasoning.html), which things have not yet been inferred? Run the owlready2 reasoner to:\n",
    "    - infer these new triples\n",
    "    - check your ontology and statements (individuals + attributes) for consistency\n",
    "3. save your asserted + inferred triples to a new file "
   ]
  },
  {
   "cell_type": "code",
   "execution_count": 8,
   "metadata": {},
   "outputs": [
    {
     "name": "stderr",
     "output_type": "stream",
     "text": [
      "* Owlready2 * Running HermiT...\n",
      "    java -Xmx2000M -cp /home/ruben/.local/lib/python3.8/site-packages/owlready2/hermit:/home/ruben/.local/lib/python3.8/site-packages/owlready2/hermit/HermiT.jar org.semanticweb.HermiT.cli.CommandLine -c -O -D -I file:////tmp/tmpl8725ls_ -Y\n"
     ]
    },
    {
     "ename": "FileNotFoundError",
     "evalue": "[Errno 2] No such file or directory: 'java'",
     "output_type": "error",
     "traceback": [
      "\u001b[0;31m---------------------------------------------------------------------------\u001b[0m",
      "\u001b[0;31mFileNotFoundError\u001b[0m                         Traceback (most recent call last)",
      "\u001b[1;32m/home/ruben/Desktop/rdf-tutorial/OWL-tutorial.ipynb Cell 12'\u001b[0m in \u001b[0;36m<module>\u001b[0;34m\u001b[0m\n\u001b[1;32m      <a href='vscode-notebook-cell:/home/ruben/Desktop/rdf-tutorial/OWL-tutorial.ipynb#ch0000011?line=0'>1</a>\u001b[0m \u001b[39mwith\u001b[39;00m onto:\n\u001b[0;32m----> <a href='vscode-notebook-cell:/home/ruben/Desktop/rdf-tutorial/OWL-tutorial.ipynb#ch0000011?line=1'>2</a>\u001b[0m     sync_reasoner(infer_property_values\u001b[39m=\u001b[39;49m\u001b[39mTrue\u001b[39;49;00m)\n",
      "File \u001b[0;32m~/.local/lib/python3.8/site-packages/owlready2/reasoning.py:148\u001b[0m, in \u001b[0;36msync_reasoner_hermit\u001b[0;34m(x, infer_property_values, debug, keep_tmp_file)\u001b[0m\n\u001b[1;32m    <a href='file:///~/.local/lib/python3.8/site-packages/owlready2/reasoning.py?line=144'>145</a>\u001b[0m   t0 \u001b[39m=\u001b[39m time\u001b[39m.\u001b[39mtime()\n\u001b[1;32m    <a href='file:///~/.local/lib/python3.8/site-packages/owlready2/reasoning.py?line=146'>147</a>\u001b[0m \u001b[39mtry\u001b[39;00m:\n\u001b[0;32m--> <a href='file:///~/.local/lib/python3.8/site-packages/owlready2/reasoning.py?line=147'>148</a>\u001b[0m   output \u001b[39m=\u001b[39m subprocess\u001b[39m.\u001b[39;49mcheck_output(command, stderr \u001b[39m=\u001b[39;49m subprocess\u001b[39m.\u001b[39;49mSTDOUT, \u001b[39m*\u001b[39;49m\u001b[39m*\u001b[39;49m_subprocess_kargs)\n\u001b[1;32m    <a href='file:///~/.local/lib/python3.8/site-packages/owlready2/reasoning.py?line=148'>149</a>\u001b[0m \u001b[39mexcept\u001b[39;00m subprocess\u001b[39m.\u001b[39mCalledProcessError \u001b[39mas\u001b[39;00m e:\n\u001b[1;32m    <a href='file:///~/.local/lib/python3.8/site-packages/owlready2/reasoning.py?line=149'>150</a>\u001b[0m   \u001b[39mif\u001b[39;00m (e\u001b[39m.\u001b[39mreturncode \u001b[39m==\u001b[39m \u001b[39m1\u001b[39m) \u001b[39mand\u001b[39;00m (\u001b[39mb\u001b[39m\u001b[39m\"\u001b[39m\u001b[39mInconsistent ontology\u001b[39m\u001b[39m\"\u001b[39m \u001b[39min\u001b[39;00m (e\u001b[39m.\u001b[39moutput \u001b[39mor\u001b[39;00m \u001b[39mb\u001b[39m\u001b[39m\"\u001b[39m\u001b[39m\"\u001b[39m)):\n",
      "File \u001b[0;32m/usr/lib/python3.8/subprocess.py:415\u001b[0m, in \u001b[0;36mcheck_output\u001b[0;34m(timeout, *popenargs, **kwargs)\u001b[0m\n\u001b[1;32m    <a href='file:///usr/lib/python3.8/subprocess.py?line=411'>412</a>\u001b[0m         empty \u001b[39m=\u001b[39m \u001b[39mb\u001b[39m\u001b[39m'\u001b[39m\u001b[39m'\u001b[39m\n\u001b[1;32m    <a href='file:///usr/lib/python3.8/subprocess.py?line=412'>413</a>\u001b[0m     kwargs[\u001b[39m'\u001b[39m\u001b[39minput\u001b[39m\u001b[39m'\u001b[39m] \u001b[39m=\u001b[39m empty\n\u001b[0;32m--> <a href='file:///usr/lib/python3.8/subprocess.py?line=414'>415</a>\u001b[0m \u001b[39mreturn\u001b[39;00m run(\u001b[39m*\u001b[39;49mpopenargs, stdout\u001b[39m=\u001b[39;49mPIPE, timeout\u001b[39m=\u001b[39;49mtimeout, check\u001b[39m=\u001b[39;49m\u001b[39mTrue\u001b[39;49;00m,\n\u001b[1;32m    <a href='file:///usr/lib/python3.8/subprocess.py?line=415'>416</a>\u001b[0m            \u001b[39m*\u001b[39;49m\u001b[39m*\u001b[39;49mkwargs)\u001b[39m.\u001b[39mstdout\n",
      "File \u001b[0;32m/usr/lib/python3.8/subprocess.py:493\u001b[0m, in \u001b[0;36mrun\u001b[0;34m(input, capture_output, timeout, check, *popenargs, **kwargs)\u001b[0m\n\u001b[1;32m    <a href='file:///usr/lib/python3.8/subprocess.py?line=489'>490</a>\u001b[0m     kwargs[\u001b[39m'\u001b[39m\u001b[39mstdout\u001b[39m\u001b[39m'\u001b[39m] \u001b[39m=\u001b[39m PIPE\n\u001b[1;32m    <a href='file:///usr/lib/python3.8/subprocess.py?line=490'>491</a>\u001b[0m     kwargs[\u001b[39m'\u001b[39m\u001b[39mstderr\u001b[39m\u001b[39m'\u001b[39m] \u001b[39m=\u001b[39m PIPE\n\u001b[0;32m--> <a href='file:///usr/lib/python3.8/subprocess.py?line=492'>493</a>\u001b[0m \u001b[39mwith\u001b[39;00m Popen(\u001b[39m*\u001b[39;49mpopenargs, \u001b[39m*\u001b[39;49m\u001b[39m*\u001b[39;49mkwargs) \u001b[39mas\u001b[39;00m process:\n\u001b[1;32m    <a href='file:///usr/lib/python3.8/subprocess.py?line=493'>494</a>\u001b[0m     \u001b[39mtry\u001b[39;00m:\n\u001b[1;32m    <a href='file:///usr/lib/python3.8/subprocess.py?line=494'>495</a>\u001b[0m         stdout, stderr \u001b[39m=\u001b[39m process\u001b[39m.\u001b[39mcommunicate(\u001b[39minput\u001b[39m, timeout\u001b[39m=\u001b[39mtimeout)\n",
      "File \u001b[0;32m/usr/lib/python3.8/subprocess.py:858\u001b[0m, in \u001b[0;36mPopen.__init__\u001b[0;34m(self, args, bufsize, executable, stdin, stdout, stderr, preexec_fn, close_fds, shell, cwd, env, universal_newlines, startupinfo, creationflags, restore_signals, start_new_session, pass_fds, encoding, errors, text)\u001b[0m\n\u001b[1;32m    <a href='file:///usr/lib/python3.8/subprocess.py?line=853'>854</a>\u001b[0m         \u001b[39mif\u001b[39;00m \u001b[39mself\u001b[39m\u001b[39m.\u001b[39mtext_mode:\n\u001b[1;32m    <a href='file:///usr/lib/python3.8/subprocess.py?line=854'>855</a>\u001b[0m             \u001b[39mself\u001b[39m\u001b[39m.\u001b[39mstderr \u001b[39m=\u001b[39m io\u001b[39m.\u001b[39mTextIOWrapper(\u001b[39mself\u001b[39m\u001b[39m.\u001b[39mstderr,\n\u001b[1;32m    <a href='file:///usr/lib/python3.8/subprocess.py?line=855'>856</a>\u001b[0m                     encoding\u001b[39m=\u001b[39mencoding, errors\u001b[39m=\u001b[39merrors)\n\u001b[0;32m--> <a href='file:///usr/lib/python3.8/subprocess.py?line=857'>858</a>\u001b[0m     \u001b[39mself\u001b[39;49m\u001b[39m.\u001b[39;49m_execute_child(args, executable, preexec_fn, close_fds,\n\u001b[1;32m    <a href='file:///usr/lib/python3.8/subprocess.py?line=858'>859</a>\u001b[0m                         pass_fds, cwd, env,\n\u001b[1;32m    <a href='file:///usr/lib/python3.8/subprocess.py?line=859'>860</a>\u001b[0m                         startupinfo, creationflags, shell,\n\u001b[1;32m    <a href='file:///usr/lib/python3.8/subprocess.py?line=860'>861</a>\u001b[0m                         p2cread, p2cwrite,\n\u001b[1;32m    <a href='file:///usr/lib/python3.8/subprocess.py?line=861'>862</a>\u001b[0m                         c2pread, c2pwrite,\n\u001b[1;32m    <a href='file:///usr/lib/python3.8/subprocess.py?line=862'>863</a>\u001b[0m                         errread, errwrite,\n\u001b[1;32m    <a href='file:///usr/lib/python3.8/subprocess.py?line=863'>864</a>\u001b[0m                         restore_signals, start_new_session)\n\u001b[1;32m    <a href='file:///usr/lib/python3.8/subprocess.py?line=864'>865</a>\u001b[0m \u001b[39mexcept\u001b[39;00m:\n\u001b[1;32m    <a href='file:///usr/lib/python3.8/subprocess.py?line=865'>866</a>\u001b[0m     \u001b[39m# Cleanup if the child failed starting.\u001b[39;00m\n\u001b[1;32m    <a href='file:///usr/lib/python3.8/subprocess.py?line=866'>867</a>\u001b[0m     \u001b[39mfor\u001b[39;00m f \u001b[39min\u001b[39;00m \u001b[39mfilter\u001b[39m(\u001b[39mNone\u001b[39;00m, (\u001b[39mself\u001b[39m\u001b[39m.\u001b[39mstdin, \u001b[39mself\u001b[39m\u001b[39m.\u001b[39mstdout, \u001b[39mself\u001b[39m\u001b[39m.\u001b[39mstderr)):\n",
      "File \u001b[0;32m/usr/lib/python3.8/subprocess.py:1704\u001b[0m, in \u001b[0;36mPopen._execute_child\u001b[0;34m(self, args, executable, preexec_fn, close_fds, pass_fds, cwd, env, startupinfo, creationflags, shell, p2cread, p2cwrite, c2pread, c2pwrite, errread, errwrite, restore_signals, start_new_session)\u001b[0m\n\u001b[1;32m   <a href='file:///usr/lib/python3.8/subprocess.py?line=1701'>1702</a>\u001b[0m     \u001b[39mif\u001b[39;00m errno_num \u001b[39m!=\u001b[39m \u001b[39m0\u001b[39m:\n\u001b[1;32m   <a href='file:///usr/lib/python3.8/subprocess.py?line=1702'>1703</a>\u001b[0m         err_msg \u001b[39m=\u001b[39m os\u001b[39m.\u001b[39mstrerror(errno_num)\n\u001b[0;32m-> <a href='file:///usr/lib/python3.8/subprocess.py?line=1703'>1704</a>\u001b[0m     \u001b[39mraise\u001b[39;00m child_exception_type(errno_num, err_msg, err_filename)\n\u001b[1;32m   <a href='file:///usr/lib/python3.8/subprocess.py?line=1704'>1705</a>\u001b[0m \u001b[39mraise\u001b[39;00m child_exception_type(err_msg)\n",
      "\u001b[0;31mFileNotFoundError\u001b[0m: [Errno 2] No such file or directory: 'java'"
     ]
    }
   ],
   "source": [
    "with onto:\n",
    "    sync_reasoner(infer_property_values=True)\n"
   ]
  },
  {
   "cell_type": "markdown",
   "metadata": {},
   "source": [
    "#### Querying inferred triples\n",
    "\n",
    "**Exercise 3**\n",
    "Query your inferred triples: \n",
    "\n",
    "- *.get_parents_of(entity)* accepts any entity (Class, property or individual), and returns the superclasses (for a class), the superproperties (for a property), or the classes (for an individual). \n",
    "\n",
    "- *.get_instances_of(Class)* returns the individuals that are asserted as belonging to the given Class in the ontology. (NB for obtaining all instances, independently of the ontology they are asserted in, use Class.instances()).\n",
    "\n",
    "- *.get_children_of(entity)* returns the subclasses (or subproperties) that are asserted for the given Class or property in the ontology. (NB for obtaining all children, independently of the ontology they are asserted in, use entity.subclasses())."
   ]
  }
 ],
 "metadata": {
  "kernelspec": {
   "display_name": "Python 3",
   "language": "python",
   "name": "python3"
  },
  "language_info": {
   "codemirror_mode": {
    "name": "ipython",
    "version": 3
   },
   "file_extension": ".py",
   "mimetype": "text/x-python",
   "name": "python",
   "nbconvert_exporter": "python",
   "pygments_lexer": "ipython3",
   "version": "3.8.10"
  }
 },
 "nbformat": 4,
 "nbformat_minor": 2
}
