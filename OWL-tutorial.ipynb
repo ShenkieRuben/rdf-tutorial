{
 "cells": [
  {
   "cell_type": "markdown",
   "metadata": {},
   "source": [
    "# OWL tutorial"
   ]
  },
  {
   "cell_type": "markdown",
   "metadata": {},
   "source": [
    "First install owlready2 if you don't already have it, and have a quick look at the [documentation](https://owlready2.readthedocs.io/en/v0.36/onto.html#)."
   ]
  },
  {
   "cell_type": "code",
   "execution_count": 24,
   "metadata": {},
   "outputs": [],
   "source": [
    "## Uncomment if you do not have owlrl installed (you should have it installed from the RDFS tutorial)\n",
    "#import sys\n",
    "#!{sys.executable} -m pip install rdflib  owlready2 pandas\n",
    "\n",
    "import pandas as pd\n",
    "from rdflib import Graph, Literal, Namespace, RDF, URIRef, OWL\n",
    "from rdflib.namespace import DC, FOAF\n",
    "\n",
    "from owlready2 import *"
   ]
  },
  {
   "cell_type": "markdown",
   "metadata": {},
   "source": [
    "Let's start loading some data from a .CSV file. We are going to create an ontology that describes the data inside.\n",
    "We already did part of this using the semantics of RDF(S), now we'll use the semantics of [OWL](https://www.w3.org/TR/2012/REC-owl2-primer-20121211/) through owlready2. \n",
    "\n",
    "Remember that an ontology is often an application ontology, meaning that it is built with a specific task in mind. \n",
    "We could model _everything_ within a certain domain in the most ontologically correct way possible, _or_ **we could model the domain in accordance with the application's task.** \n",
    "\n",
    "\n",
    "**Your task and domain:** You are a broadcaster that has just digitised its radio archives into a digital music archive (DMA), and aims to play more interesting tracks by discovering their 'hidden treasures', by making unexpected and potentially interesting relations between tracks visible to the users (which are journalists and program makers).\n",
    "\n",
    "\n",
    "**Exercise 1** \n",
    "\n",
    "1. look at the .csv files in the folder /data/musicoset_metadata/ and load them into pandas dataframes (use display.max_columns to show all columns). \n",
    "2. initialise an empty ontology using owlready2\n",
    "3. using owlready2, create a hierarchy of classes and subclasses that describe the entities in your dataframes\n",
    "4. using owrleady2, create properties and subproperties their properties, and how the classes relate to one another (using domain and range). If it helps: draw out your ontology in https://app.diagrams.net/\n",
    "    - create: object properties, data properties, functional properties\n",
    "5. using owlready2, add class restrictions\n",
    "6. create invididuals of your classes, and provide them with attributes using your properties! \n",
    "7. write simple queries to retrieve your individuals following: https://owlready2.readthedocs.io/en/v0.36/onto.html#simple-queries. What kind of things would journalists and program makers like to retrieve? \n",
    "6. save your asserted owl file"
   ]
  },
  {
   "cell_type": "code",
   "execution_count": 25,
   "metadata": {},
   "outputs": [
    {
     "name": "stdout",
     "output_type": "stream",
     "text": [
      "Albums\n",
      "                       album_id                                               name                                       billboard                                            artists  popularity  total_tracks   album_type                                          image_url\n",
      "0      \\n5n1GSzC1Reao29ScnpLYqp                                      Dying To Live                                   Dying To Live          {'46SHBwWsqBkxI7EeeBEQG7': 'Kodak Black'}        83.0          16.0        album  https://i.scdn.co/image/db2133234d458f432ca207...\n",
      "1      \\n6UYZEYjpN1DYRW0kqFy9ZE                                      Championships                                   Championships            {'20sxb77xiYeusSH8cVdatc': 'Meek Mill'}        85.0          19.0        album  https://i.scdn.co/image/77eb7c17cafe5503c58661...\n",
      "2      \\n7uVimUILdzSZG4KKKWToq0                 Christmas (Deluxe Special Edition)                                       Christmas        {'1GxkXlMwML1oSg5eLPiAz3': 'Michael Bublé'}        60.0          20.0        album  https://i.scdn.co/image/2d6ee8d4fb5a45abf35cd3...\n",
      "3      \\n35s58BRTGAEWztPo9WqCIs  Spider-Man: Into the Spider-Verse (Soundtrack ...               Spider-Man: Into The Spider-Verse      {'0LyfQWJT6nXafLPZqxe9Of': 'Various Artists'}        92.0          13.0  compilation  https://i.scdn.co/image/3aa37254a41cf96e815725...\n",
      "4      \\n41GuZcammIkupMPKH2OJ6I                                         ASTROWORLD                                      ASTROWORLD         {'0Y5tJX1MQlPlqiwlOH1tJY': 'Travis Scott'}        91.0          17.0        album  https://i.scdn.co/image/cdca7dc20c778ada42fb18...\n",
      "...                         ...                                                ...                                             ...                                                ...         ...           ...          ...                                                ...\n",
      "26515  \\n0Gt9RgFYh2jMvv5ix5lCA1                             Um, Um, Um, Um, Um, Um  Um, Um, Um, Um, Um, Um/The Best Of Major Lance          {'7onp6ew3LGoQImTt1I78gt': 'Major Lance'}         0.0           1.0       single  https://i.scdn.co/image/caab7f5876f71fdc54b52f...\n",
      "26516  \\n5Cw32z9ICOrrbS8Q5JcpDv                                           Portrait                              Woody Herman: 1964         {'2KSxJY1WxGGVYSmoM0N54P': 'Woody Herman'}        37.0          15.0        album  https://i.scdn.co/image/ab3877b713884d2369aa18...\n",
      "26517  \\n0B9f1PqUNLUEkNHxJPrtbR                      There's A Meetin' Here Tonite                   There's A Meetin' Here Tonite  {'4loTsy7881oe7pr52sewdg': 'Eddie Brown', '2H2...         7.0          12.0        album  https://i.scdn.co/image/0bb2d05acecd9ac163de0e...\n",
      "26518  \\n6wf7Rh10EoTaqZMdN2xRlI                                               More                                         More!!!          {'1kYYk4lJ7ZWbyy3zDYOl6h': 'Kai Winding'}         0.0           1.0       single  https://i.scdn.co/image/2e23c6aaa5599ad6e589d1...\n",
      "26519                        \\n                                                NaN                                             NaN                                                NaN         NaN           NaN          NaN                                                NaN\n",
      "\n",
      "[26520 rows x 8 columns]\n"
     ]
    }
   ],
   "source": [
    "pd.set_option('display.max_columns', None)\n",
    "pd.set_option('display.width', 500)\n",
    "\n",
    "\n",
    "album_df = pd.read_csv(\"./data/musicoset_metadata/albums.csv\", \"\\t\", lineterminator=\"\\r\")\n",
    "\n",
    "artist_df = pd.read_csv(\"./data/musicoset_metadata/artists.csv\", \"\\t\")\n",
    "releases_df = pd.read_csv(\"./data/musicoset_metadata/releases.csv\", \"\\t\")\n",
    "songs_df = pd.read_csv(\"./data/musicoset_metadata/songs.csv\", \"\\t\")\n",
    "tracks_df = pd.read_csv(\"./data/musicoset_metadata/tracks.csv\", \"\\t\")\n",
    "\n",
    "\n",
    "print(\"Albums\")\n",
    "print(album_df)\n",
    "\n",
    "# print(\"Artists\")\n",
    "# print(artist_df) \n",
    "\n",
    "# print(\"Releases\")\n",
    "# print(releases_df)\n",
    "\n",
    "# print(\"Songs\")\n",
    "# print(songs_df)\n",
    "\n",
    "\n",
    "# print(\"Tracks\")\n",
    "# print(tracks_df)\n"
   ]
  },
  {
   "cell_type": "code",
   "execution_count": 26,
   "metadata": {},
   "outputs": [],
   "source": [
    "onto = get_ontology(\"http://www.music.org/onto/\")\n",
    "\n",
    "with onto:\n",
    "\n",
    "    # Class definitions\n",
    "    class Album(Thing):\n",
    "        pass\n",
    "\n",
    "    class Song(Thing):\n",
    "        pass\n",
    "\n",
    "    class Artist(Thing):\n",
    "        pass\n",
    " \n",
    "    # Subclass definitions\n",
    "    class Solo(Song):\n",
    "        pass\n",
    "\n",
    "    class Collab(Song):\n",
    "        pass\n",
    "\n"
   ]
  },
  {
   "cell_type": "code",
   "execution_count": 27,
   "metadata": {},
   "outputs": [],
   "source": [
    "\n",
    "with onto:\n",
    "    # Album props\n",
    "    class numberTracks(Album >> int):\n",
    "        pass\n",
    "\n",
    "    class releasedAlbum(Album >> str):\n",
    "        pass\n",
    "\n",
    "    class albumImage(Album >> str):\n",
    "        pass\n",
    "\n",
    "    class contains(Album >> Song):\n",
    "        pass\n",
    "\n",
    "    class createdBy(Album >> Artist):\n",
    "        pass\n",
    "\n",
    "    class albumName(DataProperty):\n",
    "        domain = [Album]\n",
    "        range = [str]\n",
    "\n",
    "    class releasedDay(releasedAlbum):\n",
    "        domain = [Album]\n",
    "        range = [str]\n",
    "\n",
    "    class releasedMonth(releasedAlbum):\n",
    "        domain = [Album]\n",
    "        range = [str]\n",
    "\n",
    "    class releasedYear(releasedAlbum):\n",
    "        domain = [Album]\n",
    "        range = [str]\n",
    "        \n",
    "\n",
    "\n",
    "    # Artist props\n",
    "    class createsSong(Artist >> Song):\n",
    "        pass \n",
    "    \n",
    "    class artistPopularity(Artist >> int, FunctionalProperty):\n",
    "        pass\n",
    "\n",
    "    class playsGenre(Artist >> str):\n",
    "        pass\n",
    "\n",
    "    class artistName(Artist >> str):\n",
    "        pass\n",
    "\n",
    "\n",
    "    # Song props \n",
    "    class trackNumber(Song >> int):\n",
    "        pass\n",
    "\n",
    "    class songName(DataProperty, FunctionalProperty):\n",
    "        domain = [Song]\n",
    "        range = [str]\n",
    "\n",
    "    class songPopularity(DataProperty, FunctionalProperty):\n",
    "        domain = [Song]\n",
    "        range = [int]\n",
    "\n",
    "    class isExplicit(DataProperty, FunctionalProperty):\n",
    "        pass \n",
    "\n",
    "    class collabsWith(ObjectProperty):\n",
    "        domain = [Collab]\n",
    "        range = [Artist]\n",
    "        pass\n",
    "    \n",
    "    class containedInAlbum(Song >> Album):\n",
    "        inverse_property = contains\n",
    "\n",
    "\n"
   ]
  },
  {
   "cell_type": "code",
   "execution_count": 28,
   "metadata": {},
   "outputs": [
    {
     "data": {
      "text/plain": [
       "AllDisjoint([onto.Solo, onto.Collab])"
      ]
     },
     "execution_count": 28,
     "metadata": {},
     "output_type": "execute_result"
    }
   ],
   "source": [
    "# Class restrictions\n",
    "Artist.is_a.append(artistName.max(1))\n",
    "Artist.is_a.append(createsSong.min(1, Song))\n",
    "Artist.is_a.append(playsGenre.min(1))\n",
    "\n",
    "Collab.is_a.append(collabsWith.min(1, Artist))\n",
    "\n",
    "Song.is_a.append(albumName.max(1, int))\n",
    "Song.is_a.append(trackNumber.exactly(1, int))\n",
    "\n",
    "Album.is_a.append(contains.min(1, Song))\n",
    "\n",
    "\n",
    "AllDisjoint([Solo, Collab], onto)"
   ]
  },
  {
   "cell_type": "code",
   "execution_count": 29,
   "metadata": {},
   "outputs": [],
   "source": [
    "# Creating instances\n",
    "\n",
    "stronger = Song(name=\"Stronger\", trackNumber=[2], songPopularity=11, isExplicit=False)\n",
    "in_the_middle = Collab(name=\"She's_Like_A_Star\", trackNumber=[15], songPopularity=54, isExplicit=False, collabsWith=[Artist(\"Taio_Cruz\")])\n",
    "sugababes = Artist(name=\"Sugababes\", artistPopularity=75, playsGenre=['pop', 'r&b'], createsSong = [stronger, in_the_middle], artistName=[\"Sugababes\"])\n",
    "sugababes_album = Album(name=\"Angels_With_Dirty_Faces\", contains=[Song('Stronger')])\n",
    "\n",
    "jon_hopkins = Artist(name=\"Jon_Hopkins\", artistPopularity=95, playsGenre=['dance', 'electro', 'heavy metal'], createsSong = [Song(name='Small_Memory')], artistName=[\"Jon_Hopkins\"])\n",
    "welcome = Song(name=\"Welcome\", trackNumber=[1], songPopularity=62, isExplicit=False)\n",
    "arriving = Collab(name=\"Arriving\", trackNumber=[8], songPopularity=87, isExplicit=False, collabsWith=[Artist(\"7RAYS\")])\n",
    "\n",
    "mfpt_album = Album(name=\"Music_For_Psychedelic_Therapy\", contains=[welcome, arriving], releasedMonth=[\"jan/21\"], albumImage=[\"https://media.pitchfork.com/photos/612ffc02f64ed03c58cd3c34/1:1/w_320,c_limit/jonhopkins_musicforpsychedelic_3000.jpeg\"], numberTracks=[9], createdBy=[jon_hopkins])\n",
    "\n",
    "\n",
    "\n",
    "\n",
    "\n"
   ]
  },
  {
   "cell_type": "code",
   "execution_count": 30,
   "metadata": {},
   "outputs": [
    {
     "name": "stdout",
     "output_type": "stream",
     "text": [
      "Artists: [onto.Taio_Cruz, onto.Sugababes, onto.Jon_Hopkins, onto.7RAYS]\n",
      "Songs: [onto.Stronger, onto.Small_Memory, onto.Welcome, onto.She's_Like_A_Star, onto.Arriving]\n",
      "Subclasses of Songs: [onto.Solo, onto.Collab]\n",
      "Sugababes genres: ['pop', 'r&b']\n",
      "[]\n",
      "[onto.Small_Memory]\n"
     ]
    }
   ],
   "source": [
    "# Some simple queries:\n",
    "print(\"Artists:\", Artist.instances())\n",
    "print(\"Songs:\", Song.instances())\n",
    "print(\"Subclasses of Songs:\", list(Song.subclasses()))\n",
    "print(\"Sugababes genres:\", sugababes.playsGenre)\n",
    "\n",
    "print(onto.Taio_Cruz.collabsWith)\n",
    "print(onto.Jon_Hopkins.createsSong)\n",
    "\n",
    "\n",
    "onto.save(\"./data/firstOwlOnto.owl\", format=\"rdfxml\")\n"
   ]
  },
  {
   "cell_type": "markdown",
   "metadata": {},
   "source": [
    "## OWL reasoning \n",
    "\n",
    "Let's look at how reasoning works.\n",
    "\n",
    "Owlready automatically gets the results of the reasoning from HermiT (a type of reasoner) and reclassifies Individuals and Classes. \n",
    "\n",
    "**Exercise 2**\n",
    "1. think about which things are inferred from your OWL semantics. Query/look at your graph: do you see what you expected?\n",
    "2. looking at the following tutorial [owlready2-reasoning](https://owlready2.readthedocs.io/en/latest/reasoning.html), which things have not yet been inferred? Run the owlready2 reasoner to:\n",
    "    - infer these new triples\n",
    "    - check your ontology and statements (individuals + attributes) for consistency\n",
    "3. save your asserted + inferred triples to a new file "
   ]
  },
  {
   "cell_type": "code",
   "execution_count": 33,
   "metadata": {},
   "outputs": [
    {
     "name": "stderr",
     "output_type": "stream",
     "text": [
      "* Owlready2 * Running HermiT...\n",
      "    java -Xmx2000M -cp /home/ruben/.local/lib/python3.8/site-packages/owlready2/hermit:/home/ruben/.local/lib/python3.8/site-packages/owlready2/hermit/HermiT.jar org.semanticweb.HermiT.cli.CommandLine -c -O -D -I file:////tmp/tmpwcan03l4 -Y\n"
     ]
    },
    {
     "name": "stdout",
     "output_type": "stream",
     "text": [
      "[onto.Small_Memory]\n"
     ]
    },
    {
     "name": "stderr",
     "output_type": "stream",
     "text": [
      "* Owlready2 * HermiT took 0.6586036682128906 seconds\n",
      "* Owlready * (NB: only changes on entities loaded in Python are shown, other changes are done but not listed)\n"
     ]
    }
   ],
   "source": [
    "with onto:\n",
    "    sync_reasoner(infer_property_values=True)\n",
    "\n",
    "print(onto.Jon_Hopkins.createsSong)\n",
    "onto.save(\"./data/inferred_asserted_triples.owl\", format=\"rdfxml\")\n"
   ]
  },
  {
   "cell_type": "markdown",
   "metadata": {},
   "source": [
    "#### Querying inferred triples\n",
    "\n",
    "**Exercise 3**\n",
    "Query your inferred triples: \n",
    "\n",
    "- *.get_parents_of(entity)* accepts any entity (Class, property or individual), and returns the superclasses (for a class), the superproperties (for a property), or the classes (for an individual). \n",
    "\n",
    "- *.get_instances_of(Class)* returns the individuals that are asserted as belonging to the given Class in the ontology. (NB for obtaining all instances, independently of the ontology they are asserted in, use Class.instances()).\n",
    "\n",
    "- *.get_children_of(entity)* returns the subclasses (or subproperties) that are asserted for the given Class or property in the ontology. (NB for obtaining all children, independently of the ontology they are asserted in, use entity.subclasses())."
   ]
  }
 ],
 "metadata": {
  "kernelspec": {
   "display_name": "Python 3",
   "language": "python",
   "name": "python3"
  },
  "language_info": {
   "codemirror_mode": {
    "name": "ipython",
    "version": 3
   },
   "file_extension": ".py",
   "mimetype": "text/x-python",
   "name": "python",
   "nbconvert_exporter": "python",
   "pygments_lexer": "ipython3",
   "version": "3.8.10"
  }
 },
 "nbformat": 4,
 "nbformat_minor": 2
}
