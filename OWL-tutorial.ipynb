{
 "cells": [
  {
   "cell_type": "markdown",
   "metadata": {},
   "source": [
    "# OWL tutorial"
   ]
  },
  {
   "cell_type": "markdown",
   "metadata": {},
   "source": [
    "First install owlready2 if you don't already have it, and have a quick look at the [documentation](https://owlready2.readthedocs.io/en/v0.36/onto.html#)."
   ]
  },
  {
   "cell_type": "code",
   "execution_count": 1,
   "metadata": {},
   "outputs": [
    {
     "name": "stderr",
     "output_type": "stream",
     "text": [
      "* Owlready2 * Warning: optimized Cython parser module 'owlready2_optimized' is not available, defaulting to slower Python implementation\n"
     ]
    }
   ],
   "source": [
    "## Uncomment if you do not have owlrl installed (you should have it installed from the RDFS tutorial)\n",
    "#import sys\n",
    "#!{sys.executable} -m pip install rdflib  owlready2 pandas\n",
    "\n",
    "import pandas as pd\n",
    "from rdflib import Graph, Literal, Namespace, RDF, URIRef, OWL\n",
    "from rdflib.namespace import DC, FOAF\n",
    "\n",
    "from owlready2 import *"
   ]
  },
  {
   "cell_type": "markdown",
   "metadata": {},
   "source": [
    "Let's start loading some data from a .CSV file. We are going to create an ontology that describes the data inside.\n",
    "We already did part of this using the semantics of RDF(S), now we'll use the semantics of [OWL](https://www.w3.org/TR/2012/REC-owl2-primer-20121211/) through owlready2. \n",
    "\n",
    "Remember that an ontology is often an application ontology, meaning that it is built with a specific task in mind. \n",
    "We could model _everything_ within a certain domain in the most ontologically correct way possible, _or_ **we could model the domain in accordance with the application's task.** \n",
    "\n",
    "\n",
    "**Your task and domain:** You are a broadcaster that has just digitised its radio archives into a digital music archive (DMA), and aims to play more interesting tracks by discovering their 'hidden treasures', by making unexpected and potentially interesting relations between tracks visible to the users (which are journalists and program makers).\n",
    "\n",
    "\n",
    "**Exercise 1** \n",
    "\n",
    "1. look at the .csv files in the folder /data/musicoset_metadata/ and load them into pandas dataframes (use display.max_columns to show all columns). \n",
    "2. initialise an empty ontology using owlready2\n",
    "3. using owlready2, create a hierarchy of classes and subclasses that describe the entities in your dataframes\n",
    "4. using owrleady2, create properties and subproperties their properties, and how the classes relate to one another (using domain and range). If it helps: draw out your ontology in https://app.diagrams.net/\n",
    "    - create: object properties, data properties, functional properties\n",
    "5. using owlready2, add class restrictions\n",
    "6. create invididuals of your classes, and provide them with attributes using your properties! \n",
    "7. write simple queries to retrieve your individuals following: https://owlready2.readthedocs.io/en/v0.36/onto.html#simple-queries. What kind of things would journalists and program makers like to retrieve? \n",
    "6. save your asserted owl file"
   ]
  },
  {
   "cell_type": "code",
   "execution_count": 31,
   "metadata": {},
   "outputs": [],
   "source": [
    "pd.set_option('display.max_columns', None)\n",
    "pd.set_option('display.width', 500)\n",
    "\n",
    "\n",
    "album_df = pd.read_csv(\"./data/musicoset_metadata/albums.csv\", \"\\t\", lineterminator=\"\\r\")\n",
    "\n",
    "artist_df = pd.read_csv(\"./data/musicoset_metadata/artists.csv\", \"\\t\")\n",
    "releases_df = pd.read_csv(\"./data/musicoset_metadata/releases.csv\", \"\\t\")\n",
    "songs_df = pd.read_csv(\"./data/musicoset_metadata/songs.csv\", \"\\t\")\n",
    "tracks_df = pd.read_csv(\"./data/musicoset_metadata/tracks.csv\", \"\\t\")\n",
    "\n",
    "\n",
    "# print(\"Albums\")\n",
    "# print(album_df)\n",
    "\n",
    "# print(\"Artists\")\n",
    "# print(artist_df) \n",
    "\n",
    "# print(\"Releases\")\n",
    "# print(releases_df)\n",
    "\n",
    "# print(\"Songs\")\n",
    "# print(songs_df)\n",
    "\n",
    "\n",
    "# print(\"Tracks\")\n",
    "# print(tracks_df)\n"
   ]
  },
  {
   "cell_type": "code",
   "execution_count": 34,
   "metadata": {},
   "outputs": [
    {
     "name": "stdout",
     "output_type": "stream",
     "text": [
      "[]\n"
     ]
    }
   ],
   "source": [
    "onto = get_ontology(\"http://www.music.org/onto/\")\n",
    "\n",
    "with onto:\n",
    "\n",
    "    # Class definitions\n",
    "    class Album(Thing):\n",
    "        pass\n",
    "\n",
    "    class Song(Thing):\n",
    "        pass\n",
    "\n",
    "    class Artist(Thing):\n",
    "        pass\n",
    " \n",
    "    # Subclass definitions\n",
    "    class Solo(Song):\n",
    "        pass\n",
    "\n",
    "    class Collab(Song):\n",
    "        pass\n",
    "\n"
   ]
  },
  {
   "cell_type": "code",
   "execution_count": 37,
   "metadata": {},
   "outputs": [
    {
     "name": "stdout",
     "output_type": "stream",
     "text": [
      "[]\n"
     ]
    }
   ],
   "source": [
    "\n",
    "    # Album props\n",
    "    class numberTracks(Album >> int):\n",
    "        pass\n",
    "\n",
    "    class releasedAlbum(Album >> str):\n",
    "        pass\n",
    "\n",
    "    class onBillboard(Album >> str):\n",
    "        pass\n",
    "\n",
    "    class albumImage(Album >> str):\n",
    "        pass\n",
    "\n",
    "    class contains(Album >> Song):\n",
    "        pass\n",
    "\n",
    "    class albumName(DataProperty):\n",
    "        domain = [Album]\n",
    "        range = [str]\n",
    "\n",
    "    class releasedDay(releasedAlbum):\n",
    "        domain = [Album]\n",
    "        range = [str]\n",
    "\n",
    "    class releasedMonth(releasedAlbum):\n",
    "        domain = [Album]\n",
    "        range = [str]\n",
    "\n",
    "    class releasedYear(releasedAlbum):\n",
    "        domain = [Album]\n",
    "        range = [str]\n",
    "        \n",
    "\n",
    "\n",
    "    # Artist props\n",
    "    class creates(Artist >> Song):\n",
    "        pass \n",
    "    \n",
    "    class artistPopularity(Artist >> int):\n",
    "        pass\n",
    "\n",
    "    class playsGenre(Artist >> str):\n",
    "        pass\n",
    "\n",
    "    class artistName(Artist >> str):\n",
    "        pass\n",
    "\n",
    "\n",
    "    # Song props \n",
    "    class trackNumber(Song >> int):\n",
    "        pass\n",
    "\n",
    "    class songName(DataProperty, FunctionalProperty):\n",
    "        domain = [Song]\n",
    "        range = [str]\n",
    "\n",
    "    class songPopularity(DataProperty, FunctionalProperty):\n",
    "        domain = [Song]\n",
    "        range = [int]\n",
    "\n",
    "    class isExplicit(DataProperty, FunctionalProperty):\n",
    "        pass \n",
    "\n",
    "    class collabsWith(Collab >> Artist):\n",
    "        pass\n",
    "\n",
    "\n",
    "print(list(Artist.subclasses()))\n",
    "\n"
   ]
  },
  {
   "cell_type": "code",
   "execution_count": 49,
   "metadata": {},
   "outputs": [
    {
     "data": {
      "text/plain": [
       "AllDisjoint([onto.Solo, onto.Collab])"
      ]
     },
     "execution_count": 49,
     "metadata": {},
     "output_type": "execute_result"
    }
   ],
   "source": [
    "# Class restrictions\n",
    "Artist.is_a.append(artistName.max(1))\n",
    "Artist.is_a.append(creates.min(1, Song))\n",
    "Artist.is_a.append(playsGenre.min(1))\n",
    "\n",
    "Collab.is_a.append(collabsWith.min(1, Artist))\n",
    "\n",
    "Song.is_a.append(albumName.max(1, int))\n",
    "Song.is_a.append(trackNumber.exactly(1, int))\n",
    "\n",
    "Album.is_a.append(contains.min(1, Song))\n",
    "\n",
    "\n",
    "AllDisjoint([Solo, Collab], onto)"
   ]
  },
  {
   "cell_type": "markdown",
   "metadata": {},
   "source": [
    "## OWL reasoning \n",
    "\n",
    "Let's look at how reasoning works.\n",
    "\n",
    "Owlready automatically gets the results of the reasoning from HermiT (a type of reasoner) and reclassifies Individuals and Classes. \n",
    "\n",
    "**Exercise 2**\n",
    "1. think about which things are inferred from your OWL semantics. Query/look at your graph: do you see what you expected?\n",
    "2. looking at the following tutorial [owlready2-reasoning](https://owlready2.readthedocs.io/en/latest/reasoning.html), which things have not yet been inferred? Run the owlready2 reasoner to:\n",
    "    - infer these new triples\n",
    "    - check your ontology and statements (individuals + attributes) for consistency\n",
    "3. save your asserted + inferred triples to a new file "
   ]
  },
  {
   "cell_type": "markdown",
   "metadata": {},
   "source": [
    "#### Querying inferred triples\n",
    "\n",
    "**Exercise 3**\n",
    "Query your inferred triples: \n",
    "\n",
    "- *.get_parents_of(entity)* accepts any entity (Class, property or individual), and returns the superclasses (for a class), the superproperties (for a property), or the classes (for an individual). \n",
    "\n",
    "- *.get_instances_of(Class)* returns the individuals that are asserted as belonging to the given Class in the ontology. (NB for obtaining all instances, independently of the ontology they are asserted in, use Class.instances()).\n",
    "\n",
    "- *.get_children_of(entity)* returns the subclasses (or subproperties) that are asserted for the given Class or property in the ontology. (NB for obtaining all children, independently of the ontology they are asserted in, use entity.subclasses())."
   ]
  }
 ],
 "metadata": {
  "kernelspec": {
   "display_name": "Python 3",
   "language": "python",
   "name": "python3"
  },
  "language_info": {
   "codemirror_mode": {
    "name": "ipython",
    "version": 3
   },
   "file_extension": ".py",
   "mimetype": "text/x-python",
   "name": "python",
   "nbconvert_exporter": "python",
   "pygments_lexer": "ipython3",
   "version": "3.8.10"
  }
 },
 "nbformat": 4,
 "nbformat_minor": 2
}
