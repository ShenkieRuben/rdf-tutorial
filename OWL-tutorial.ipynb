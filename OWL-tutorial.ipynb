{
 "cells": [
  {
   "cell_type": "markdown",
   "metadata": {},
   "source": [
    "# OWL tutorial"
   ]
  },
  {
   "cell_type": "markdown",
   "metadata": {},
   "source": [
    "First install owlready2 if you don't already have it, and have a quick look at the [documentation](https://owlready2.readthedocs.io/en/v0.36/onto.html#)."
   ]
  },
  {
   "cell_type": "code",
   "execution_count": 1,
   "metadata": {},
   "outputs": [
    {
     "ename": "ModuleNotFoundError",
     "evalue": "No module named 'owlready2'",
     "output_type": "error",
     "traceback": [
      "\u001b[0;31m---------------------------------------------------------------------------\u001b[0m",
      "\u001b[0;31mModuleNotFoundError\u001b[0m                       Traceback (most recent call last)",
      "\u001b[1;32m/home/ruben/Desktop/rdf-tutorial/OWL-tutorial.ipynb Cell 3'\u001b[0m in \u001b[0;36m<module>\u001b[0;34m\u001b[0m\n\u001b[1;32m      <a href='vscode-notebook-cell:/home/ruben/Desktop/rdf-tutorial/OWL-tutorial.ipynb#ch0000002?line=5'>6</a>\u001b[0m \u001b[39mfrom\u001b[39;00m \u001b[39mrdflib\u001b[39;00m \u001b[39mimport\u001b[39;00m Graph, Literal, Namespace, RDF, URIRef, OWL\n\u001b[1;32m      <a href='vscode-notebook-cell:/home/ruben/Desktop/rdf-tutorial/OWL-tutorial.ipynb#ch0000002?line=6'>7</a>\u001b[0m \u001b[39mfrom\u001b[39;00m \u001b[39mrdflib\u001b[39;00m\u001b[39m.\u001b[39;00m\u001b[39mnamespace\u001b[39;00m \u001b[39mimport\u001b[39;00m DC, FOAF\n\u001b[0;32m----> <a href='vscode-notebook-cell:/home/ruben/Desktop/rdf-tutorial/OWL-tutorial.ipynb#ch0000002?line=8'>9</a>\u001b[0m \u001b[39mfrom\u001b[39;00m \u001b[39mowlready2\u001b[39;00m \u001b[39mimport\u001b[39;00m \u001b[39m*\u001b[39m\n",
      "\u001b[0;31mModuleNotFoundError\u001b[0m: No module named 'owlready2'"
     ]
    }
   ],
   "source": [
    "## Uncomment if you do not have owlrl installed (you should have it installed from the RDFS tutorial)\n",
    "#import sys\n",
    "#!{sys.executable} -m pip install rdflib  owlready2 pandas\n",
    "\n",
    "import pandas as pd\n",
    "from rdflib import Graph, Literal, Namespace, RDF, URIRef, OWL\n",
    "from rdflib.namespace import DC, FOAF\n",
    "\n",
    "from owlready2 import *"
   ]
  },
  {
   "cell_type": "markdown",
   "metadata": {},
   "source": [
    "Let's start loading some data from a .CSV file. We are going to create an ontology that describes the data inside.\n",
    "We already did part of this using the semantics of RDF(S), now we'll use the semantics of [OWL](https://www.w3.org/TR/2012/REC-owl2-primer-20121211/) through owlready2. \n",
    "\n",
    "Remember that an ontology is often an application ontology, meaning that it is built with a specific task in mind. \n",
    "We could model _everything_ within a certain domain in the most ontologically correct way possible, _or_ **we could model the domain in accordance with the application's task.** \n",
    "\n",
    "\n",
    "**Your task and domain:** You are a broadcaster that has just digitised its radio archives into a digital music archive (DMA), and aims to play more interesting tracks by discovering their 'hidden treasures', by making unexpected and potentially interesting relations between tracks visible to the users (which are journalists and program makers).\n",
    "\n",
    "\n",
    "**Exercise 1** \n",
    "\n",
    "1. look at the .csv files in the folder /data/musicoset_metadata/ and load them into pandas dataframes (use display.max_columns to show all columns). \n",
    "2. initialise an empty ontology using owlready2\n",
    "3. using owlready2, create a hierarchy of classes and subclasses that describe the entities in your dataframes\n",
    "4. using owrleady2, create properties and subproperties their properties, and how the classes relate to one another (using domain and range). If it helps: draw out your ontology in https://app.diagrams.net/\n",
    "    - create: object properties, data properties, functional properties\n",
    "5. using owlready2, add class restrictions\n",
    "6. create invididuals of your classes, and provide them with attributes using your properties! \n",
    "7. write simple queries to retrieve your individuals following: https://owlready2.readthedocs.io/en/v0.36/onto.html#simple-queries. What kind of things would journalists and program makers like to retrieve? \n",
    "6. save your asserted owl file"
   ]
  },
  {
   "cell_type": "markdown",
   "metadata": {},
   "source": [
    "## OWL reasoning \n",
    "\n",
    "Let's look at how reasoning works.\n",
    "\n",
    "Owlready automatically gets the results of the reasoning from HermiT (a type of reasoner) and reclassifies Individuals and Classes. \n",
    "\n",
    "**Exercise 2**\n",
    "1. think about which things are inferred from your OWL semantics. Query/look at your graph: do you see what you expected?\n",
    "2. looking at the following tutorial [owlready2-reasoning](https://owlready2.readthedocs.io/en/latest/reasoning.html), which things have not yet been inferred? Run the owlready2 reasoner to:\n",
    "    - infer these new triples\n",
    "    - check your ontology and statements (individuals + attributes) for consistency\n",
    "3. save your asserted + inferred triples to a new file "
   ]
  },
  {
   "cell_type": "markdown",
   "metadata": {},
   "source": [
    "#### Querying inferred triples\n",
    "\n",
    "**Exercise 3**\n",
    "Query your inferred triples: \n",
    "\n",
    "- *.get_parents_of(entity)* accepts any entity (Class, property or individual), and returns the superclasses (for a class), the superproperties (for a property), or the classes (for an individual). \n",
    "\n",
    "- *.get_instances_of(Class)* returns the individuals that are asserted as belonging to the given Class in the ontology. (NB for obtaining all instances, independently of the ontology they are asserted in, use Class.instances()).\n",
    "\n",
    "- *.get_children_of(entity)* returns the subclasses (or subproperties) that are asserted for the given Class or property in the ontology. (NB for obtaining all children, independently of the ontology they are asserted in, use entity.subclasses())."
   ]
  }
 ],
 "metadata": {
  "kernelspec": {
   "display_name": "Python 3",
   "language": "python",
   "name": "python3"
  },
  "language_info": {
   "codemirror_mode": {
    "name": "ipython",
    "version": 3
   },
   "file_extension": ".py",
   "mimetype": "text/x-python",
   "name": "python",
   "nbconvert_exporter": "python",
   "pygments_lexer": "ipython3",
   "version": "3.8.10"
  }
 },
 "nbformat": 4,
 "nbformat_minor": 2
}
