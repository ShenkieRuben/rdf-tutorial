{
 "cells": [
  {
   "cell_type": "markdown",
   "metadata": {},
   "source": [
    "# OWL tutorial"
   ]
  },
  {
   "cell_type": "markdown",
   "metadata": {},
   "source": [
    "First install owlready2 if you don't already have it, and have a quick look at the [documentation](https://owlready2.readthedocs.io/en/v0.36/onto.html#)."
   ]
  },
  {
   "cell_type": "code",
   "execution_count": 59,
   "metadata": {},
   "outputs": [],
   "source": [
    "## Uncomment if you do not have owlrl installed (you should have it installed from the RDFS tutorial)\n",
    "#import sys\n",
    "#!{sys.executable} -m pip install rdflib  owlready2 pandas\n",
    "\n",
    "import pandas as pd\n",
    "from rdflib import Graph, Literal, Namespace, RDF, URIRef, OWL\n",
    "from rdflib.namespace import DC, FOAF\n",
    "\n",
    "from owlready2 import *"
   ]
  },
  {
   "cell_type": "markdown",
   "metadata": {},
   "source": [
    "Let's start loading some data from a .CSV file. We are going to create an ontology that describes the data inside.\n",
    "We already did part of this using the semantics of RDF(S), now we'll use the semantics of [OWL](https://www.w3.org/TR/2012/REC-owl2-primer-20121211/) through owlready2. \n",
    "\n",
    "Remember that an ontology is often an application ontology, meaning that it is built with a specific task in mind. \n",
    "We could model _everything_ within a certain domain in the most ontologically correct way possible, _or_ **we could model the domain in accordance with the application's task.** \n",
    "\n",
    "\n",
    "**Your task and domain:** You are a broadcaster that has just digitised its radio archives into a digital music archive (DMA), and aims to play more interesting tracks by discovering their 'hidden treasures', by making unexpected and potentially interesting relations between tracks visible to the users (which are journalists and program makers).\n",
    "\n",
    "\n",
    "**Exercise 1** \n",
    "\n",
    "1. look at the .csv files in the folder /data/musicoset_metadata/ and load them into pandas dataframes (use display.max_columns to show all columns). \n",
    "2. initialise an empty ontology using owlready2\n",
    "3. using owlready2, create a hierarchy of classes and subclasses that describe the entities in your dataframes\n",
    "4. using owrleady2, create properties and subproperties their properties, and how the classes relate to one another (using domain and range). If it helps: draw out your ontology in https://app.diagrams.net/\n",
    "    - create: object properties, data properties, functional properties\n",
    "5. using owlready2, add class restrictions\n",
    "6. create invididuals of your classes, and provide them with attributes using your properties! \n",
    "7. write simple queries to retrieve your individuals following: https://owlready2.readthedocs.io/en/v0.36/onto.html#simple-queries. What kind of things would journalists and program makers like to retrieve? \n",
    "6. save your asserted owl file"
   ]
  },
  {
   "cell_type": "code",
   "execution_count": 60,
   "metadata": {},
   "outputs": [],
   "source": [
    "pd.set_option('display.max_columns', None)\n",
    "pd.set_option('display.width', 500)\n",
    "\n",
    "\n",
    "album_df = pd.read_csv(\"./data/musicoset_metadata/albums.csv\", \"\\t\", lineterminator=\"\\r\")\n",
    "\n",
    "artist_df = pd.read_csv(\"./data/musicoset_metadata/artists.csv\", \"\\t\")\n",
    "releases_df = pd.read_csv(\"./data/musicoset_metadata/releases.csv\", \"\\t\")\n",
    "songs_df = pd.read_csv(\"./data/musicoset_metadata/songs.csv\", \"\\t\")\n",
    "tracks_df = pd.read_csv(\"./data/musicoset_metadata/tracks.csv\", \"\\t\")\n",
    "\n",
    "\n",
    "# print(\"Albums\")\n",
    "# print(album_df)\n",
    "\n",
    "# print(\"Artists\")\n",
    "# print(artist_df) \n",
    "\n",
    "# print(\"Releases\")\n",
    "# print(releases_df)\n",
    "\n",
    "# print(\"Songs\")\n",
    "# print(songs_df)\n",
    "\n",
    "\n",
    "# print(\"Tracks\")\n",
    "# print(tracks_df)\n"
   ]
  },
  {
   "cell_type": "code",
   "execution_count": 61,
   "metadata": {},
   "outputs": [],
   "source": [
    "onto = get_ontology(\"http://www.music.org/onto/\")\n",
    "\n",
    "with onto:\n",
    "\n",
    "    # Class definitions\n",
    "    class Album(Thing):\n",
    "        pass\n",
    "\n",
    "    class Song(Thing):\n",
    "        pass\n",
    "\n",
    "    class Artist(Thing):\n",
    "        pass\n",
    " \n",
    "    # Subclass definitions\n",
    "    class Solo(Song):\n",
    "        pass\n",
    "\n",
    "    class Collab(Song):\n",
    "        pass\n",
    "\n"
   ]
  },
  {
   "cell_type": "code",
   "execution_count": 62,
   "metadata": {},
   "outputs": [],
   "source": [
    "\n",
    "    # Album props\n",
    "    class numberTracks(Album >> int):\n",
    "        pass\n",
    "\n",
    "    class releasedAlbum(Album >> str):\n",
    "        pass\n",
    "\n",
    "    class albumImage(Album >> str):\n",
    "        pass\n",
    "\n",
    "    class contains(Album >> Song):\n",
    "        pass\n",
    "\n",
    "    class albumName(DataProperty):\n",
    "        domain = [Album]\n",
    "        range = [str]\n",
    "\n",
    "    class releasedDay(releasedAlbum):\n",
    "        domain = [Album]\n",
    "        range = [str]\n",
    "\n",
    "    class releasedMonth(releasedAlbum):\n",
    "        domain = [Album]\n",
    "        range = [str]\n",
    "\n",
    "    class releasedYear(releasedAlbum):\n",
    "        domain = [Album]\n",
    "        range = [str]\n",
    "        \n",
    "\n",
    "\n",
    "    # Artist props\n",
    "    class createsSong(Artist >> Song):\n",
    "        pass \n",
    "    \n",
    "    class artistPopularity(Artist >> int):\n",
    "        pass\n",
    "\n",
    "    class playsGenre(Artist >> str):\n",
    "        pass\n",
    "\n",
    "    class artistName(Artist >> str):\n",
    "        pass\n",
    "\n",
    "\n",
    "    # Song props \n",
    "    class trackNumber(Song >> int):\n",
    "        pass\n",
    "\n",
    "    class songName(DataProperty, FunctionalProperty):\n",
    "        domain = [Song]\n",
    "        range = [str]\n",
    "\n",
    "    class songPopularity(DataProperty, FunctionalProperty):\n",
    "        domain = [Song]\n",
    "        range = [int]\n",
    "\n",
    "    class isExplicit(DataProperty, FunctionalProperty):\n",
    "        pass \n",
    "\n",
    "    class collabsWith(ObjectProperty, SymmetricProperty):\n",
    "        domain = [Collab]\n",
    "        range = [Artist]\n",
    "        pass\n",
    "    \n",
    "    class containedInAlbum(Song >> Album):\n",
    "        inverse_property = contains\n",
    "\n",
    "\n"
   ]
  },
  {
   "cell_type": "code",
   "execution_count": 63,
   "metadata": {},
   "outputs": [
    {
     "data": {
      "text/plain": [
       "AllDisjoint([onto.Solo, onto.Collab])"
      ]
     },
     "execution_count": 63,
     "metadata": {},
     "output_type": "execute_result"
    }
   ],
   "source": [
    "# Class restrictions\n",
    "Artist.is_a.append(artistName.max(1))\n",
    "Artist.is_a.append(createsSong.min(1, Song))\n",
    "Artist.is_a.append(playsGenre.min(1))\n",
    "\n",
    "Collab.is_a.append(collabsWith.min(1, Artist))\n",
    "\n",
    "Song.is_a.append(albumName.max(1, int))\n",
    "Song.is_a.append(trackNumber.exactly(1, int))\n",
    "\n",
    "Album.is_a.append(contains.min(1, Song))\n",
    "\n",
    "\n",
    "AllDisjoint([Solo, Collab], onto)"
   ]
  },
  {
   "cell_type": "code",
   "execution_count": 64,
   "metadata": {},
   "outputs": [],
   "source": [
    "# Creating instances\n",
    "\n",
    "stronger = Song(\"Stronger\", trackNumber=[2], songPopularity=[11], isExplicit=[False])\n",
    "in_the_middle = Collab(\"She's_Like_A_Star\", trackNumber=[15], songPopularity=[54], isExplicit=[False], collabsWith=Artist(\"Taio_Cruz\"))\n",
    "\n",
    "sugababes = Artist(\"Sugababes\", artistPopularity=[75], playsGenre=['pop', 'r&b'], createsSong = [stronger, in_the_middle], artistName=[\"Sugababes\"])\n",
    "\n",
    "sugababes_album = Album(\"Angels_With_Dirty_Faces\", contains=[Song('Stronger')])\n",
    "\n",
    "\n",
    "jon_hopkins = Artist(\"Jon_Hopkins\", artistPopularity=[95], playsGenre=['dance', 'electro', 'heavy metal'], createsSong = [Song('Small_Memory')], artistName=[\"Jon_Hopkins\"])\n",
    "\n",
    "\n",
    "welcome = Song(\"Welcome\", trackNumber=[1], songPopularity=[62], isExplicit=[False])\n",
    "arriving = Collab(\"Arriving\", trackNumber=[8], songPopularity=[87], isExplicit=[False], collabsWith=Artist(\"7RAYS\", onto))\n",
    "\n",
    "mfpt_album = Album(\"Music_For_Psychedelic_Therapy\", contains=[Song(\"Welcome\"), Song(\"Arriving\")], releasedMonth=[\"jan/21\"], albumImage=\"https://media.pitchfork.com/photos/612ffc02f64ed03c58cd3c34/1:1/w_320,c_limit/jonhopkins_musicforpsychedelic_3000.jpeg\", numberTracks=[9])\n",
    "\n",
    "\n",
    "\n"
   ]
  },
  {
   "cell_type": "code",
   "execution_count": 65,
   "metadata": {},
   "outputs": [
    {
     "name": "stdout",
     "output_type": "stream",
     "text": [
      "[onto.Sugababes, onto.Jon Hopkins, onto.7RAYS, onto.Taio Cruz, onto.Taio_Cruz, onto.Jon_Hopkins]\n",
      "[onto.Stronger, onto.In the middle, onto.Welcome, onto.Small Memory, onto.Small_Memory, onto.Arriving, onto.She's Like A Star, onto.She's_Like_A_Star]\n",
      "[onto.Solo, onto.Collab]\n",
      "['pop', 'r&b']\n",
      "[]\n"
     ]
    }
   ],
   "source": [
    "# Some simple queries:\n",
    "print(Artist.instances())\n",
    "print(Song.instances())\n",
    "print(list(Song.subclasses()))\n",
    "print(sugababes.playsGenre)\n",
    "print(onto.search(collabsWith = \"*\"))\n",
    "\n",
    "\n",
    "# onto.save(\"./data/firstOwlOnto.owl\")\n"
   ]
  },
  {
   "cell_type": "markdown",
   "metadata": {},
   "source": [
    "## OWL reasoning \n",
    "\n",
    "Let's look at how reasoning works.\n",
    "\n",
    "Owlready automatically gets the results of the reasoning from HermiT (a type of reasoner) and reclassifies Individuals and Classes. \n",
    "\n",
    "**Exercise 2**\n",
    "1. think about which things are inferred from your OWL semantics. Query/look at your graph: do you see what you expected?\n",
    "2. looking at the following tutorial [owlready2-reasoning](https://owlready2.readthedocs.io/en/latest/reasoning.html), which things have not yet been inferred? Run the owlready2 reasoner to:\n",
    "    - infer these new triples\n",
    "    - check your ontology and statements (individuals + attributes) for consistency\n",
    "3. save your asserted + inferred triples to a new file "
   ]
  },
  {
   "cell_type": "code",
   "execution_count": 67,
   "metadata": {},
   "outputs": [
    {
     "ename": "TypeError",
     "evalue": "'<' not supported between instances of 'str' and 'int'",
     "output_type": "error",
     "traceback": [
      "\u001b[1;31m---------------------------------------------------------------------------\u001b[0m",
      "\u001b[1;31mTypeError\u001b[0m                                 Traceback (most recent call last)",
      "Input \u001b[1;32mIn [67]\u001b[0m, in \u001b[0;36m<module>\u001b[1;34m\u001b[0m\n\u001b[0;32m      1\u001b[0m \u001b[39mwith\u001b[39;00m onto:\n\u001b[1;32m----> 2\u001b[0m     sync_reasoner(infer_property_values\u001b[39m=\u001b[39;49m\u001b[39mTrue\u001b[39;49;00m)\n",
      "File \u001b[1;32m~\\AppData\\Local\\Packages\\PythonSoftwareFoundation.Python.3.8_qbz5n2kfra8p0\\LocalCache\\local-packages\\Python38\\site-packages\\owlready2\\reasoning.py:137\u001b[0m, in \u001b[0;36msync_reasoner_hermit\u001b[1;34m(x, infer_property_values, debug, keep_tmp_file)\u001b[0m\n\u001b[0;32m    <a href='file:///~/AppData/Local/Packages/PythonSoftwareFoundation.Python.3.8_qbz5n2kfra8p0/LocalCache/local-packages/Python38/site-packages/owlready2/reasoning.py?line=134'>135</a>\u001b[0m   \u001b[39mfor\u001b[39;00m o \u001b[39min\u001b[39;00m x: o\u001b[39m.\u001b[39msave(tmp, \u001b[39mformat\u001b[39m \u001b[39m=\u001b[39m \u001b[39m\"\u001b[39m\u001b[39mntriples\u001b[39m\u001b[39m\"\u001b[39m, \u001b[39mfilter\u001b[39m \u001b[39m=\u001b[39m save_filter, commit \u001b[39m=\u001b[39m \u001b[39mFalse\u001b[39;00m)\n\u001b[0;32m    <a href='file:///~/AppData/Local/Packages/PythonSoftwareFoundation.Python.3.8_qbz5n2kfra8p0/LocalCache/local-packages/Python38/site-packages/owlready2/reasoning.py?line=135'>136</a>\u001b[0m \u001b[39melse\u001b[39;00m:\n\u001b[1;32m--> <a href='file:///~/AppData/Local/Packages/PythonSoftwareFoundation.Python.3.8_qbz5n2kfra8p0/LocalCache/local-packages/Python38/site-packages/owlready2/reasoning.py?line=136'>137</a>\u001b[0m   world\u001b[39m.\u001b[39;49msave(tmp, \u001b[39mformat\u001b[39;49m \u001b[39m=\u001b[39;49m \u001b[39m\"\u001b[39;49m\u001b[39mntriples\u001b[39;49m\u001b[39m\"\u001b[39;49m, \u001b[39mfilter\u001b[39;49m \u001b[39m=\u001b[39;49m save_filter)\n\u001b[0;32m    <a href='file:///~/AppData/Local/Packages/PythonSoftwareFoundation.Python.3.8_qbz5n2kfra8p0/LocalCache/local-packages/Python38/site-packages/owlready2/reasoning.py?line=137'>138</a>\u001b[0m tmp\u001b[39m.\u001b[39mclose()\n\u001b[0;32m    <a href='file:///~/AppData/Local/Packages/PythonSoftwareFoundation.Python.3.8_qbz5n2kfra8p0/LocalCache/local-packages/Python38/site-packages/owlready2/reasoning.py?line=138'>139</a>\u001b[0m command \u001b[39m=\u001b[39m [owlready2\u001b[39m.\u001b[39mJAVA_EXE, \u001b[39m\"\u001b[39m\u001b[39m-Xmx\u001b[39m\u001b[39m%s\u001b[39;00m\u001b[39mM\u001b[39m\u001b[39m\"\u001b[39m \u001b[39m%\u001b[39m JAVA_MEMORY, \u001b[39m\"\u001b[39m\u001b[39m-cp\u001b[39m\u001b[39m\"\u001b[39m, _HERMIT_CLASSPATH, \u001b[39m\"\u001b[39m\u001b[39morg.semanticweb.HermiT.cli.CommandLine\u001b[39m\u001b[39m\"\u001b[39m, \u001b[39m\"\u001b[39m\u001b[39m-c\u001b[39m\u001b[39m\"\u001b[39m, \u001b[39m\"\u001b[39m\u001b[39m-O\u001b[39m\u001b[39m\"\u001b[39m, \u001b[39m\"\u001b[39m\u001b[39m-D\u001b[39m\u001b[39m\"\u001b[39m, \u001b[39m\"\u001b[39m\u001b[39m-I\u001b[39m\u001b[39m\"\u001b[39m, \u001b[39m\"\u001b[39m\u001b[39mfile:///\u001b[39m\u001b[39m%s\u001b[39;00m\u001b[39m\"\u001b[39m \u001b[39m%\u001b[39m tmp\u001b[39m.\u001b[39mname\u001b[39m.\u001b[39mreplace(\u001b[39m'\u001b[39m\u001b[39m\\\\\u001b[39;00m\u001b[39m'\u001b[39m,\u001b[39m'\u001b[39m\u001b[39m/\u001b[39m\u001b[39m'\u001b[39m)]\n",
      "File \u001b[1;32m~\\AppData\\Local\\Packages\\PythonSoftwareFoundation.Python.3.8_qbz5n2kfra8p0\\LocalCache\\local-packages\\Python38\\site-packages\\owlready2\\namespace.py:514\u001b[0m, in \u001b[0;36mWorld.save\u001b[1;34m(self, file, format, **kargs)\u001b[0m\n\u001b[0;32m    <a href='file:///~/AppData/Local/Packages/PythonSoftwareFoundation.Python.3.8_qbz5n2kfra8p0/LocalCache/local-packages/Python38/site-packages/owlready2/namespace.py?line=511'>512</a>\u001b[0m \u001b[39melse\u001b[39;00m:\n\u001b[0;32m    <a href='file:///~/AppData/Local/Packages/PythonSoftwareFoundation.Python.3.8_qbz5n2kfra8p0/LocalCache/local-packages/Python38/site-packages/owlready2/namespace.py?line=512'>513</a>\u001b[0m   \u001b[39mif\u001b[39;00m _LOG_LEVEL: \u001b[39mprint\u001b[39m(\u001b[39m\"\u001b[39m\u001b[39m* Owlready2 * Saving world \u001b[39m\u001b[39m%s\u001b[39;00m\u001b[39m to \u001b[39m\u001b[39m%s\u001b[39;00m\u001b[39m...\u001b[39m\u001b[39m\"\u001b[39m \u001b[39m%\u001b[39m (\u001b[39mself\u001b[39m, \u001b[39mgetattr\u001b[39m(file, \u001b[39m\"\u001b[39m\u001b[39mname\u001b[39m\u001b[39m\"\u001b[39m, \u001b[39m\"\u001b[39m\u001b[39m???\u001b[39m\u001b[39m\"\u001b[39m)), file \u001b[39m=\u001b[39m sys\u001b[39m.\u001b[39mstderr)\n\u001b[1;32m--> <a href='file:///~/AppData/Local/Packages/PythonSoftwareFoundation.Python.3.8_qbz5n2kfra8p0/LocalCache/local-packages/Python38/site-packages/owlready2/namespace.py?line=513'>514</a>\u001b[0m   \u001b[39mself\u001b[39;49m\u001b[39m.\u001b[39;49mgraph\u001b[39m.\u001b[39;49msave(file, \u001b[39mformat\u001b[39;49m, \u001b[39m*\u001b[39;49m\u001b[39m*\u001b[39;49mkargs)\n",
      "File \u001b[1;32m~\\AppData\\Local\\Packages\\PythonSoftwareFoundation.Python.3.8_qbz5n2kfra8p0\\LocalCache\\local-packages\\Python38\\site-packages\\owlready2\\driver.py:126\u001b[0m, in \u001b[0;36mBaseMainGraph.save\u001b[1;34m(self, f, format, **kargs)\u001b[0m\n\u001b[1;32m--> <a href='file:///~/AppData/Local/Packages/PythonSoftwareFoundation.Python.3.8_qbz5n2kfra8p0/LocalCache/local-packages/Python38/site-packages/owlready2/driver.py?line=125'>126</a>\u001b[0m \u001b[39mdef\u001b[39;00m \u001b[39msave\u001b[39m(\u001b[39mself\u001b[39m, f, \u001b[39mformat\u001b[39m \u001b[39m=\u001b[39m \u001b[39m\"\u001b[39m\u001b[39mrdfxml\u001b[39m\u001b[39m\"\u001b[39m, \u001b[39m*\u001b[39m\u001b[39m*\u001b[39mkargs): _save(f, \u001b[39mformat\u001b[39;49m, \u001b[39mself\u001b[39;49m, \u001b[39m*\u001b[39;49m\u001b[39m*\u001b[39;49mkargs)\n",
      "File \u001b[1;32m~\\AppData\\Local\\Packages\\PythonSoftwareFoundation.Python.3.8_qbz5n2kfra8p0\\LocalCache\\local-packages\\Python38\\site-packages\\owlready2\\driver.py:258\u001b[0m, in \u001b[0;36m_save\u001b[1;34m(f, format, graph, filter)\u001b[0m\n\u001b[0;32m    <a href='file:///~/AppData/Local/Packages/PythonSoftwareFoundation.Python.3.8_qbz5n2kfra8p0/LocalCache/local-packages/Python38/site-packages/owlready2/driver.py?line=255'>256</a>\u001b[0m p \u001b[39m=\u001b[39m \u001b[39m\"\u001b[39m\u001b[39m<\u001b[39m\u001b[39m%s\u001b[39;00m\u001b[39m>\u001b[39m\u001b[39m\"\u001b[39m \u001b[39m%\u001b[39m _unabbreviate(p)\n\u001b[0;32m    <a href='file:///~/AppData/Local/Packages/PythonSoftwareFoundation.Python.3.8_qbz5n2kfra8p0/LocalCache/local-packages/Python38/site-packages/owlready2/driver.py?line=256'>257</a>\u001b[0m \u001b[39mif\u001b[39;00m d \u001b[39mis\u001b[39;00m \u001b[39mNone\u001b[39;00m:\n\u001b[1;32m--> <a href='file:///~/AppData/Local/Packages/PythonSoftwareFoundation.Python.3.8_qbz5n2kfra8p0/LocalCache/local-packages/Python38/site-packages/owlready2/driver.py?line=257'>258</a>\u001b[0m   \u001b[39mif\u001b[39;00m o \u001b[39m<\u001b[39;49m \u001b[39m0\u001b[39;49m: o \u001b[39m=\u001b[39m \u001b[39m\"\u001b[39m\u001b[39m_:\u001b[39m\u001b[39m%s\u001b[39;00m\u001b[39m\"\u001b[39m \u001b[39m%\u001b[39m (\u001b[39m-\u001b[39mo)\n\u001b[0;32m    <a href='file:///~/AppData/Local/Packages/PythonSoftwareFoundation.Python.3.8_qbz5n2kfra8p0/LocalCache/local-packages/Python38/site-packages/owlready2/driver.py?line=258'>259</a>\u001b[0m   \u001b[39melse\u001b[39;00m:     o \u001b[39m=\u001b[39m \u001b[39m\"\u001b[39m\u001b[39m<\u001b[39m\u001b[39m%s\u001b[39;00m\u001b[39m>\u001b[39m\u001b[39m\"\u001b[39m \u001b[39m%\u001b[39m _unabbreviate(o)\n\u001b[0;32m    <a href='file:///~/AppData/Local/Packages/PythonSoftwareFoundation.Python.3.8_qbz5n2kfra8p0/LocalCache/local-packages/Python38/site-packages/owlready2/driver.py?line=259'>260</a>\u001b[0m \u001b[39melse\u001b[39;00m:\n",
      "\u001b[1;31mTypeError\u001b[0m: '<' not supported between instances of 'str' and 'int'"
     ]
    }
   ],
   "source": [
    "with onto:\n",
    "    sync_reasoner(infer_property_values=True)\n"
   ]
  },
  {
   "cell_type": "markdown",
   "metadata": {},
   "source": [
    "#### Querying inferred triples\n",
    "\n",
    "**Exercise 3**\n",
    "Query your inferred triples: \n",
    "\n",
    "- *.get_parents_of(entity)* accepts any entity (Class, property or individual), and returns the superclasses (for a class), the superproperties (for a property), or the classes (for an individual). \n",
    "\n",
    "- *.get_instances_of(Class)* returns the individuals that are asserted as belonging to the given Class in the ontology. (NB for obtaining all instances, independently of the ontology they are asserted in, use Class.instances()).\n",
    "\n",
    "- *.get_children_of(entity)* returns the subclasses (or subproperties) that are asserted for the given Class or property in the ontology. (NB for obtaining all children, independently of the ontology they are asserted in, use entity.subclasses())."
   ]
  }
 ],
 "metadata": {
  "kernelspec": {
   "display_name": "Python 3",
   "language": "python",
   "name": "python3"
  },
  "language_info": {
   "codemirror_mode": {
    "name": "ipython",
    "version": 3
   },
   "file_extension": ".py",
   "mimetype": "text/x-python",
   "name": "python",
   "nbconvert_exporter": "python",
   "pygments_lexer": "ipython3",
   "version": "3.8.10"
  }
 },
 "nbformat": 4,
 "nbformat_minor": 2
}
